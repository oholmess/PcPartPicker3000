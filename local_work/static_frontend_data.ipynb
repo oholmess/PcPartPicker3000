{
 "cells": [
  {
   "cell_type": "code",
   "execution_count": null,
   "metadata": {},
   "outputs": [],
   "source": [
    "import pandas as pd\n",
    "\n",
    "# Define the input and output file path\n",
    "file_path = 'assignment/df_engineered.csv'\n",
    "\n",
    "# Read the CSV file\n",
    "try:\n",
    "    df = pd.read_csv(file_path)\n",
    "except FileNotFoundError:\n",
    "    print(f\"Error: The file {file_path} was not found.\")\n",
    "    exit()\n",
    "\n",
    "# Define the columns to keep\n",
    "columns_to_keep = ['titulo', 'pantalla_tamano_pulgadas', 'precio_min', 'precio_max', 'precio_mean']\n",
    "\n",
    "# Check if all required columns exist in the DataFrame\n",
    "missing_columns = [col for col in columns_to_keep if col not in df.columns]\n",
    "if missing_columns:\n",
    "    print(f\"Error: The following required columns are missing from the CSV: {', '.join(missing_columns)}\")\n",
    "    # Optionally, print all available columns for user to check\n",
    "    # print(f\"Available columns are: {', '.join(df.columns)}\")\n",
    "    exit()\n",
    "\n",
    "# Select the desired columns\n",
    "df_modified = df[columns_to_keep].copy()\n",
    "\n",
    "# Create the 'brand' column from the first word of 'titulo'\n",
    "# Ensure 'titulo' column exists before trying to access it\n",
    "if 'titulo' in df_modified.columns:\n",
    "    df_modified['brand'] = df_modified['titulo'].astype(str).apply(lambda x: x.split()[0] if x else '')\n",
    "else:\n",
    "    print(\"Error: 'titulo' column not found, cannot create 'brand' column.\")\n",
    "    exit()\n",
    "    \n",
    "# Reorder columns to have 'brand' after 'titulo' (optional, for better readability)\n",
    "if 'brand' in df_modified.columns and 'titulo' in df_modified.columns:\n",
    "    cols = df_modified.columns.tolist()\n",
    "    # Remove brand if it exists, to re-insert it at the correct position\n",
    "    if 'brand' in cols:\n",
    "        cols.remove('brand')\n",
    "    \n",
    "    titulo_index = cols.index('titulo')\n",
    "    cols.insert(titulo_index + 1, 'brand')\n",
    "    df_modified = df_modified[cols]\n",
    "\n",
    "\n",
    "# Save the modified DataFrame back to the original file path\n",
    "try:\n",
    "    df_modified.to_csv(file_path, index=False)\n",
    "    print(f\"Successfully modified {file_path}\")\n",
    "    print(\"Kept columns: titulo, brand, pantalla_tamano_pulgadas, precio_min, precio_max, precio_mean\")\n",
    "except Exception as e:\n",
    "    print(f\"Error saving the modified file: {e}\")\n"
   ]
  }
 ],
 "metadata": {
  "kernelspec": {
   "display_name": "Python 3",
   "language": "python",
   "name": "python3"
  },
  "language_info": {
   "name": "python",
   "version": "3.13.0"
  }
 },
 "nbformat": 4,
 "nbformat_minor": 2
}
