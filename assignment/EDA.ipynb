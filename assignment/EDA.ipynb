{
 "cells": [
  {
   "cell_type": "markdown",
   "metadata": {},
   "source": [
    "# Preprocessing and Exploritory Data Analysis"
   ]
  },
  {
   "cell_type": "code",
   "execution_count": 1,
   "metadata": {},
   "outputs": [],
   "source": [
    "# Importing the necessary libraries\n",
    "import pandas as pd\n",
    "import numpy as np\n",
    "import matplotlib.pyplot as plt\n",
    "import seaborn as sns\n",
    "import os\n",
    "import re \n",
    "import missingno as msno\n",
    "\n",
    "\n"
   ]
  },
  {
   "cell_type": "code",
   "execution_count": 2,
   "metadata": {},
   "outputs": [
    {
     "name": "stderr",
     "output_type": "stream",
     "text": [
      "/var/folders/ct/j6s2hnjs0y1101ht51rf6f9w0000gn/T/ipykernel_33391/2794974568.py:2: DtypeWarning: Columns (6,7,8,9,13,14,17,18,19,20,21,22,24,25,26,27,28,29,30,32,36,37,40,41,42,46,49,50,51,53,59,60,62,63,67,70,73,75,76,77,78,80,81,82,83,84,85,86,87,88,89,90,91,92,93,94,95,96,98,100,103,104,105,126,127,128,129,130,132,133,134,135) have mixed types. Specify dtype option on import or set low_memory=False.\n",
      "  df = pd.read_csv('../data/db_computers_2025_raw.csv')\n"
     ]
    }
   ],
   "source": [
    "# Load in the dataframe\n",
    "df = pd.read_csv('../data/db_computers_2025_raw.csv')"
   ]
  },
  {
   "cell_type": "markdown",
   "metadata": {},
   "source": [
    "## Data inpection & summary statistics "
   ]
  },
  {
   "cell_type": "markdown",
   "metadata": {},
   "source": [
    "### Initial examination"
   ]
  },
  {
   "cell_type": "code",
   "execution_count": 11,
   "metadata": {},
   "outputs": [
    {
     "data": {
      "text/html": [
       "<div>\n",
       "<style scoped>\n",
       "    .dataframe tbody tr th:only-of-type {\n",
       "        vertical-align: middle;\n",
       "    }\n",
       "\n",
       "    .dataframe tbody tr th {\n",
       "        vertical-align: top;\n",
       "    }\n",
       "\n",
       "    .dataframe thead th {\n",
       "        text-align: right;\n",
       "    }\n",
       "</style>\n",
       "<table border=\"1\" class=\"dataframe\">\n",
       "  <thead>\n",
       "    <tr style=\"text-align: right;\">\n",
       "      <th></th>\n",
       "      <th>Unnamed: 0</th>\n",
       "      <th>Título</th>\n",
       "      <th>Precio_Rango</th>\n",
       "      <th>Ofertas</th>\n",
       "      <th>Tipo de producto</th>\n",
       "      <th>Serie</th>\n",
       "      <th>Pantalla_Tamaño de la pantalla</th>\n",
       "      <th>Pantalla_Diagonal de la pantalla</th>\n",
       "      <th>Pantalla_Tecnología de la pantalla</th>\n",
       "      <th>Pantalla_Luminosidad</th>\n",
       "      <th>...</th>\n",
       "      <th>Características especiales</th>\n",
       "      <th>Almacenamiento_Formato audiovisual compatible</th>\n",
       "      <th>Otras características_Modo de sonido</th>\n",
       "      <th>Propiedades de la carcasa_Superficie del material</th>\n",
       "      <th>Disco duro_Capacidad disco duro (GB)</th>\n",
       "      <th>Propiedades de la carcasa_Bahía externa de 3,5\"</th>\n",
       "      <th>Procesador_Placa base</th>\n",
       "      <th>Otras características_Certificado RoHS</th>\n",
       "      <th>Sistema operativo_Software incluido</th>\n",
       "      <th>Procesador_Procesadores compatibles</th>\n",
       "    </tr>\n",
       "  </thead>\n",
       "  <tbody>\n",
       "    <tr>\n",
       "      <th>0</th>\n",
       "      <td>0</td>\n",
       "      <td>Apple MacBook Air 13\" 2024 M3</td>\n",
       "      <td>1.026,53 € – 2.287,17 €</td>\n",
       "      <td>200 ofertas:</td>\n",
       "      <td>Portátil multimedia</td>\n",
       "      <td>Apple MacBook Air</td>\n",
       "      <td>13,6 pulgadas</td>\n",
       "      <td>34,544 cm</td>\n",
       "      <td>Retina</td>\n",
       "      <td>500 cd/m²</td>\n",
       "      <td>...</td>\n",
       "      <td>NaN</td>\n",
       "      <td>NaN</td>\n",
       "      <td>NaN</td>\n",
       "      <td>NaN</td>\n",
       "      <td>NaN</td>\n",
       "      <td>NaN</td>\n",
       "      <td>NaN</td>\n",
       "      <td>NaN</td>\n",
       "      <td>NaN</td>\n",
       "      <td>NaN</td>\n",
       "    </tr>\n",
       "    <tr>\n",
       "      <th>1</th>\n",
       "      <td>1</td>\n",
       "      <td>Apple MacBook Air 15\" 2024 M3</td>\n",
       "      <td>1.270,42 € – 2.672,25 €</td>\n",
       "      <td>230 ofertas:</td>\n",
       "      <td>Portátil multimedia</td>\n",
       "      <td>Apple MacBook Air</td>\n",
       "      <td>15,3 pulgadas</td>\n",
       "      <td>38,862 cm</td>\n",
       "      <td>Retina</td>\n",
       "      <td>500 cd/m²</td>\n",
       "      <td>...</td>\n",
       "      <td>NaN</td>\n",
       "      <td>NaN</td>\n",
       "      <td>NaN</td>\n",
       "      <td>NaN</td>\n",
       "      <td>NaN</td>\n",
       "      <td>NaN</td>\n",
       "      <td>NaN</td>\n",
       "      <td>NaN</td>\n",
       "      <td>NaN</td>\n",
       "      <td>NaN</td>\n",
       "    </tr>\n",
       "    <tr>\n",
       "      <th>2</th>\n",
       "      <td>2</td>\n",
       "      <td>Apple MacBook Pro 14\" M4 (2024)</td>\n",
       "      <td>1.731,44 € – 4.932,25 €</td>\n",
       "      <td>136 ofertas:</td>\n",
       "      <td>Portátil multimedia</td>\n",
       "      <td>Apple MacBook Pro</td>\n",
       "      <td>14,2 pulgadas</td>\n",
       "      <td>36,068 cm</td>\n",
       "      <td>Retina</td>\n",
       "      <td>1.000 cd/m²</td>\n",
       "      <td>...</td>\n",
       "      <td>NaN</td>\n",
       "      <td>NaN</td>\n",
       "      <td>NaN</td>\n",
       "      <td>NaN</td>\n",
       "      <td>NaN</td>\n",
       "      <td>NaN</td>\n",
       "      <td>NaN</td>\n",
       "      <td>NaN</td>\n",
       "      <td>NaN</td>\n",
       "      <td>NaN</td>\n",
       "    </tr>\n",
       "    <tr>\n",
       "      <th>3</th>\n",
       "      <td>3</td>\n",
       "      <td>ASUS TUF Gaming A15 FA506 (2024)</td>\n",
       "      <td>647,00 € – 1.031,71 €</td>\n",
       "      <td>30 ofertas:</td>\n",
       "      <td>Portátil gaming</td>\n",
       "      <td>ASUS TUF Gaming</td>\n",
       "      <td>15,6 pulgadas</td>\n",
       "      <td>39,624 cm</td>\n",
       "      <td>Full HD</td>\n",
       "      <td>NaN</td>\n",
       "      <td>...</td>\n",
       "      <td>NaN</td>\n",
       "      <td>NaN</td>\n",
       "      <td>NaN</td>\n",
       "      <td>NaN</td>\n",
       "      <td>NaN</td>\n",
       "      <td>NaN</td>\n",
       "      <td>NaN</td>\n",
       "      <td>NaN</td>\n",
       "      <td>NaN</td>\n",
       "      <td>NaN</td>\n",
       "    </tr>\n",
       "    <tr>\n",
       "      <th>4</th>\n",
       "      <td>4</td>\n",
       "      <td>GigaByte Aero 16 OLED BKF</td>\n",
       "      <td>1.031,31 € – 2.069,99 €</td>\n",
       "      <td>29 ofertas:</td>\n",
       "      <td>Portátil gaming</td>\n",
       "      <td>Gigabyte Aero</td>\n",
       "      <td>16 pulgadas</td>\n",
       "      <td>40,64 cm</td>\n",
       "      <td>UHD+</td>\n",
       "      <td>600 cd/m²</td>\n",
       "      <td>...</td>\n",
       "      <td>NaN</td>\n",
       "      <td>NaN</td>\n",
       "      <td>NaN</td>\n",
       "      <td>NaN</td>\n",
       "      <td>NaN</td>\n",
       "      <td>NaN</td>\n",
       "      <td>NaN</td>\n",
       "      <td>NaN</td>\n",
       "      <td>NaN</td>\n",
       "      <td>NaN</td>\n",
       "    </tr>\n",
       "  </tbody>\n",
       "</table>\n",
       "<p>5 rows × 136 columns</p>\n",
       "</div>"
      ],
      "text/plain": [
       "   Unnamed: 0                            Título             Precio_Rango  \\\n",
       "0           0     Apple MacBook Air 13\" 2024 M3  1.026,53 € – 2.287,17 €   \n",
       "1           1     Apple MacBook Air 15\" 2024 M3  1.270,42 € – 2.672,25 €   \n",
       "2           2   Apple MacBook Pro 14\" M4 (2024)  1.731,44 € – 4.932,25 €   \n",
       "3           3  ASUS TUF Gaming A15 FA506 (2024)    647,00 € – 1.031,71 €   \n",
       "4           4         GigaByte Aero 16 OLED BKF  1.031,31 € – 2.069,99 €   \n",
       "\n",
       "        Ofertas     Tipo de producto              Serie  \\\n",
       "0  200 ofertas:  Portátil multimedia  Apple MacBook Air   \n",
       "1  230 ofertas:  Portátil multimedia  Apple MacBook Air   \n",
       "2  136 ofertas:  Portátil multimedia  Apple MacBook Pro   \n",
       "3   30 ofertas:      Portátil gaming    ASUS TUF Gaming   \n",
       "4   29 ofertas:      Portátil gaming      Gigabyte Aero   \n",
       "\n",
       "  Pantalla_Tamaño de la pantalla Pantalla_Diagonal de la pantalla  \\\n",
       "0                  13,6 pulgadas                        34,544 cm   \n",
       "1                  15,3 pulgadas                        38,862 cm   \n",
       "2                  14,2 pulgadas                        36,068 cm   \n",
       "3                  15,6 pulgadas                        39,624 cm   \n",
       "4                    16 pulgadas                         40,64 cm   \n",
       "\n",
       "  Pantalla_Tecnología de la pantalla Pantalla_Luminosidad  ...  \\\n",
       "0                             Retina            500 cd/m²  ...   \n",
       "1                             Retina            500 cd/m²  ...   \n",
       "2                             Retina          1.000 cd/m²  ...   \n",
       "3                            Full HD                  NaN  ...   \n",
       "4                               UHD+            600 cd/m²  ...   \n",
       "\n",
       "  Características especiales Almacenamiento_Formato audiovisual compatible  \\\n",
       "0                        NaN                                           NaN   \n",
       "1                        NaN                                           NaN   \n",
       "2                        NaN                                           NaN   \n",
       "3                        NaN                                           NaN   \n",
       "4                        NaN                                           NaN   \n",
       "\n",
       "  Otras características_Modo de sonido  \\\n",
       "0                                  NaN   \n",
       "1                                  NaN   \n",
       "2                                  NaN   \n",
       "3                                  NaN   \n",
       "4                                  NaN   \n",
       "\n",
       "  Propiedades de la carcasa_Superficie del material  \\\n",
       "0                                               NaN   \n",
       "1                                               NaN   \n",
       "2                                               NaN   \n",
       "3                                               NaN   \n",
       "4                                               NaN   \n",
       "\n",
       "  Disco duro_Capacidad disco duro (GB)  \\\n",
       "0                                  NaN   \n",
       "1                                  NaN   \n",
       "2                                  NaN   \n",
       "3                                  NaN   \n",
       "4                                  NaN   \n",
       "\n",
       "  Propiedades de la carcasa_Bahía externa de 3,5\" Procesador_Placa base  \\\n",
       "0                                             NaN                   NaN   \n",
       "1                                             NaN                   NaN   \n",
       "2                                             NaN                   NaN   \n",
       "3                                             NaN                   NaN   \n",
       "4                                             NaN                   NaN   \n",
       "\n",
       "  Otras características_Certificado RoHS Sistema operativo_Software incluido  \\\n",
       "0                                    NaN                                 NaN   \n",
       "1                                    NaN                                 NaN   \n",
       "2                                    NaN                                 NaN   \n",
       "3                                    NaN                                 NaN   \n",
       "4                                    NaN                                 NaN   \n",
       "\n",
       "  Procesador_Procesadores compatibles  \n",
       "0                                 NaN  \n",
       "1                                 NaN  \n",
       "2                                 NaN  \n",
       "3                                 NaN  \n",
       "4                                 NaN  \n",
       "\n",
       "[5 rows x 136 columns]"
      ]
     },
     "execution_count": 11,
     "metadata": {},
     "output_type": "execute_result"
    }
   ],
   "source": [
    "df.head()\n"
   ]
  },
  {
   "cell_type": "markdown",
   "metadata": {},
   "source": [
    "Based on the head of the dataset, we can see that the dataset has large amount of collumns. This is most likley due to the different types of PC parts that have their own unique properties that do not apply to other categories."
   ]
  },
  {
   "cell_type": "code",
   "execution_count": 12,
   "metadata": {},
   "outputs": [
    {
     "data": {
      "text/html": [
       "<div>\n",
       "<style scoped>\n",
       "    .dataframe tbody tr th:only-of-type {\n",
       "        vertical-align: middle;\n",
       "    }\n",
       "\n",
       "    .dataframe tbody tr th {\n",
       "        vertical-align: top;\n",
       "    }\n",
       "\n",
       "    .dataframe thead th {\n",
       "        text-align: right;\n",
       "    }\n",
       "</style>\n",
       "<table border=\"1\" class=\"dataframe\">\n",
       "  <thead>\n",
       "    <tr style=\"text-align: right;\">\n",
       "      <th></th>\n",
       "      <th>Unnamed: 0</th>\n",
       "      <th>Título</th>\n",
       "      <th>Precio_Rango</th>\n",
       "      <th>Ofertas</th>\n",
       "      <th>Tipo de producto</th>\n",
       "      <th>Serie</th>\n",
       "      <th>Pantalla_Tamaño de la pantalla</th>\n",
       "      <th>Pantalla_Diagonal de la pantalla</th>\n",
       "      <th>Pantalla_Tecnología de la pantalla</th>\n",
       "      <th>Pantalla_Luminosidad</th>\n",
       "      <th>...</th>\n",
       "      <th>Características especiales</th>\n",
       "      <th>Almacenamiento_Formato audiovisual compatible</th>\n",
       "      <th>Otras características_Modo de sonido</th>\n",
       "      <th>Propiedades de la carcasa_Superficie del material</th>\n",
       "      <th>Disco duro_Capacidad disco duro (GB)</th>\n",
       "      <th>Propiedades de la carcasa_Bahía externa de 3,5\"</th>\n",
       "      <th>Procesador_Placa base</th>\n",
       "      <th>Otras características_Certificado RoHS</th>\n",
       "      <th>Sistema operativo_Software incluido</th>\n",
       "      <th>Procesador_Procesadores compatibles</th>\n",
       "    </tr>\n",
       "  </thead>\n",
       "  <tbody>\n",
       "    <tr>\n",
       "      <th>8059</th>\n",
       "      <td>4027</td>\n",
       "      <td>Ankermann Work Home (4260561745772)</td>\n",
       "      <td>249,00 €</td>\n",
       "      <td>1 oferta:</td>\n",
       "      <td>PC de oficina</td>\n",
       "      <td>NaN</td>\n",
       "      <td>NaN</td>\n",
       "      <td>NaN</td>\n",
       "      <td>NaN</td>\n",
       "      <td>NaN</td>\n",
       "      <td>...</td>\n",
       "      <td>NaN</td>\n",
       "      <td>NaN</td>\n",
       "      <td>NaN</td>\n",
       "      <td>NaN</td>\n",
       "      <td>500 GB</td>\n",
       "      <td>NaN</td>\n",
       "      <td>NaN</td>\n",
       "      <td>NaN</td>\n",
       "      <td>NaN</td>\n",
       "      <td>NaN</td>\n",
       "    </tr>\n",
       "    <tr>\n",
       "      <th>8060</th>\n",
       "      <td>4028</td>\n",
       "      <td>Captiva Advanced Gaming I75\\nI75-363</td>\n",
       "      <td>1.129,99 €</td>\n",
       "      <td>1 oferta:</td>\n",
       "      <td>PC gaming</td>\n",
       "      <td>NaN</td>\n",
       "      <td>NaN</td>\n",
       "      <td>NaN</td>\n",
       "      <td>NaN</td>\n",
       "      <td>NaN</td>\n",
       "      <td>...</td>\n",
       "      <td>NaN</td>\n",
       "      <td>NaN</td>\n",
       "      <td>NaN</td>\n",
       "      <td>NaN</td>\n",
       "      <td>NaN</td>\n",
       "      <td>NaN</td>\n",
       "      <td>NaN</td>\n",
       "      <td>NaN</td>\n",
       "      <td>NaN</td>\n",
       "      <td>NaN</td>\n",
       "    </tr>\n",
       "    <tr>\n",
       "      <th>8061</th>\n",
       "      <td>4029</td>\n",
       "      <td>Vibox VIII-49 Gaming PC i9-11900F / RTX 4070 Ti</td>\n",
       "      <td>2.249,95 €</td>\n",
       "      <td>1 oferta:</td>\n",
       "      <td>PC gaming</td>\n",
       "      <td>NaN</td>\n",
       "      <td>NaN</td>\n",
       "      <td>NaN</td>\n",
       "      <td>NaN</td>\n",
       "      <td>NaN</td>\n",
       "      <td>...</td>\n",
       "      <td>NaN</td>\n",
       "      <td>NaN</td>\n",
       "      <td>NaN</td>\n",
       "      <td>NaN</td>\n",
       "      <td>NaN</td>\n",
       "      <td>NaN</td>\n",
       "      <td>NaN</td>\n",
       "      <td>NaN</td>\n",
       "      <td>NaN</td>\n",
       "      <td>NaN</td>\n",
       "    </tr>\n",
       "    <tr>\n",
       "      <th>8062</th>\n",
       "      <td>4030</td>\n",
       "      <td>Sedatech UCCG810I2I1HF - Watercooling Gaming-PC</td>\n",
       "      <td>3.269,90 €</td>\n",
       "      <td>1 oferta:</td>\n",
       "      <td>PC gaming</td>\n",
       "      <td>NaN</td>\n",
       "      <td>NaN</td>\n",
       "      <td>NaN</td>\n",
       "      <td>NaN</td>\n",
       "      <td>NaN</td>\n",
       "      <td>...</td>\n",
       "      <td>NaN</td>\n",
       "      <td>NaN</td>\n",
       "      <td>NaN</td>\n",
       "      <td>NaN</td>\n",
       "      <td>NaN</td>\n",
       "      <td>NaN</td>\n",
       "      <td>NaN</td>\n",
       "      <td>NaN</td>\n",
       "      <td>NaN</td>\n",
       "      <td>NaN</td>\n",
       "    </tr>\n",
       "    <tr>\n",
       "      <th>8063</th>\n",
       "      <td>4031</td>\n",
       "      <td>Ankermann Gaming PC (4260561745598)</td>\n",
       "      <td>2.543,00 €</td>\n",
       "      <td>1 oferta:</td>\n",
       "      <td>PC gaming</td>\n",
       "      <td>NaN</td>\n",
       "      <td>NaN</td>\n",
       "      <td>NaN</td>\n",
       "      <td>NaN</td>\n",
       "      <td>NaN</td>\n",
       "      <td>...</td>\n",
       "      <td>NaN</td>\n",
       "      <td>NaN</td>\n",
       "      <td>NaN</td>\n",
       "      <td>NaN</td>\n",
       "      <td>NaN</td>\n",
       "      <td>NaN</td>\n",
       "      <td>NaN</td>\n",
       "      <td>NaN</td>\n",
       "      <td>NaN</td>\n",
       "      <td>NaN</td>\n",
       "    </tr>\n",
       "  </tbody>\n",
       "</table>\n",
       "<p>5 rows × 136 columns</p>\n",
       "</div>"
      ],
      "text/plain": [
       "      Unnamed: 0                                           Título  \\\n",
       "8059        4027              Ankermann Work Home (4260561745772)   \n",
       "8060        4028             Captiva Advanced Gaming I75\\nI75-363   \n",
       "8061        4029  Vibox VIII-49 Gaming PC i9-11900F / RTX 4070 Ti   \n",
       "8062        4030  Sedatech UCCG810I2I1HF - Watercooling Gaming-PC   \n",
       "8063        4031              Ankermann Gaming PC (4260561745598)   \n",
       "\n",
       "     Precio_Rango    Ofertas Tipo de producto Serie  \\\n",
       "8059     249,00 €  1 oferta:    PC de oficina   NaN   \n",
       "8060   1.129,99 €  1 oferta:        PC gaming   NaN   \n",
       "8061   2.249,95 €  1 oferta:        PC gaming   NaN   \n",
       "8062   3.269,90 €  1 oferta:        PC gaming   NaN   \n",
       "8063   2.543,00 €  1 oferta:        PC gaming   NaN   \n",
       "\n",
       "     Pantalla_Tamaño de la pantalla Pantalla_Diagonal de la pantalla  \\\n",
       "8059                            NaN                              NaN   \n",
       "8060                            NaN                              NaN   \n",
       "8061                            NaN                              NaN   \n",
       "8062                            NaN                              NaN   \n",
       "8063                            NaN                              NaN   \n",
       "\n",
       "     Pantalla_Tecnología de la pantalla Pantalla_Luminosidad  ...  \\\n",
       "8059                                NaN                  NaN  ...   \n",
       "8060                                NaN                  NaN  ...   \n",
       "8061                                NaN                  NaN  ...   \n",
       "8062                                NaN                  NaN  ...   \n",
       "8063                                NaN                  NaN  ...   \n",
       "\n",
       "     Características especiales Almacenamiento_Formato audiovisual compatible  \\\n",
       "8059                        NaN                                           NaN   \n",
       "8060                        NaN                                           NaN   \n",
       "8061                        NaN                                           NaN   \n",
       "8062                        NaN                                           NaN   \n",
       "8063                        NaN                                           NaN   \n",
       "\n",
       "     Otras características_Modo de sonido  \\\n",
       "8059                                  NaN   \n",
       "8060                                  NaN   \n",
       "8061                                  NaN   \n",
       "8062                                  NaN   \n",
       "8063                                  NaN   \n",
       "\n",
       "     Propiedades de la carcasa_Superficie del material  \\\n",
       "8059                                               NaN   \n",
       "8060                                               NaN   \n",
       "8061                                               NaN   \n",
       "8062                                               NaN   \n",
       "8063                                               NaN   \n",
       "\n",
       "     Disco duro_Capacidad disco duro (GB)  \\\n",
       "8059                               500 GB   \n",
       "8060                                  NaN   \n",
       "8061                                  NaN   \n",
       "8062                                  NaN   \n",
       "8063                                  NaN   \n",
       "\n",
       "     Propiedades de la carcasa_Bahía externa de 3,5\" Procesador_Placa base  \\\n",
       "8059                                             NaN                   NaN   \n",
       "8060                                             NaN                   NaN   \n",
       "8061                                             NaN                   NaN   \n",
       "8062                                             NaN                   NaN   \n",
       "8063                                             NaN                   NaN   \n",
       "\n",
       "     Otras características_Certificado RoHS  \\\n",
       "8059                                    NaN   \n",
       "8060                                    NaN   \n",
       "8061                                    NaN   \n",
       "8062                                    NaN   \n",
       "8063                                    NaN   \n",
       "\n",
       "     Sistema operativo_Software incluido Procesador_Procesadores compatibles  \n",
       "8059                                 NaN                                 NaN  \n",
       "8060                                 NaN                                 NaN  \n",
       "8061                                 NaN                                 NaN  \n",
       "8062                                 NaN                                 NaN  \n",
       "8063                                 NaN                                 NaN  \n",
       "\n",
       "[5 rows x 136 columns]"
      ]
     },
     "execution_count": 12,
     "metadata": {},
     "output_type": "execute_result"
    }
   ],
   "source": [
    "df.tail()"
   ]
  },
  {
   "cell_type": "markdown",
   "metadata": {},
   "source": [
    "There are 8063 items in this dataset that we will have to deal with. An important part to look at is the data types. We have 10 Columns with type Float, 1 column with an integer type, and 125 object columns. These datatypes are important to help us understand what type of database is suitable for this dataset."
   ]
  },
  {
   "cell_type": "markdown",
   "metadata": {},
   "source": [
    "### Summary Statistics"
   ]
  },
  {
   "cell_type": "code",
   "execution_count": 13,
   "metadata": {},
   "outputs": [
    {
     "data": {
      "text/html": [
       "<div>\n",
       "<style scoped>\n",
       "    .dataframe tbody tr th:only-of-type {\n",
       "        vertical-align: middle;\n",
       "    }\n",
       "\n",
       "    .dataframe tbody tr th {\n",
       "        vertical-align: top;\n",
       "    }\n",
       "\n",
       "    .dataframe thead th {\n",
       "        text-align: right;\n",
       "    }\n",
       "</style>\n",
       "<table border=\"1\" class=\"dataframe\">\n",
       "  <thead>\n",
       "    <tr style=\"text-align: right;\">\n",
       "      <th></th>\n",
       "      <th>Unnamed: 0</th>\n",
       "      <th>Sonido_Número de altavoces</th>\n",
       "      <th>Otras características_Fecha de lanzamiento</th>\n",
       "      <th>Disco duro_Número de discos duros (instalados)</th>\n",
       "      <th>Alimentación_Número de celdas</th>\n",
       "      <th>Procesador_Número de hilos de ejecución</th>\n",
       "      <th>RAM_Número de ranuras para memoria RAM</th>\n",
       "      <th>Propiedades de la carcasa_Bahía interna de 2,5\"</th>\n",
       "      <th>Propiedades de la carcasa_Bahía interna de 3,5\"</th>\n",
       "      <th>Propiedades de la carcasa_Bahía externa de 5,25\"</th>\n",
       "      <th>Propiedades de la carcasa_Bahía externa de 3,5\"</th>\n",
       "    </tr>\n",
       "  </thead>\n",
       "  <tbody>\n",
       "    <tr>\n",
       "      <th>count</th>\n",
       "      <td>8064.000000</td>\n",
       "      <td>2938.000000</td>\n",
       "      <td>3781.000000</td>\n",
       "      <td>5598.000000</td>\n",
       "      <td>2679.000000</td>\n",
       "      <td>3102.000000</td>\n",
       "      <td>1043.000000</td>\n",
       "      <td>358.000000</td>\n",
       "      <td>138.000000</td>\n",
       "      <td>49.000000</td>\n",
       "      <td>17.000000</td>\n",
       "    </tr>\n",
       "    <tr>\n",
       "      <th>mean</th>\n",
       "      <td>2015.500000</td>\n",
       "      <td>2.477195</td>\n",
       "      <td>2022.613065</td>\n",
       "      <td>0.988567</td>\n",
       "      <td>3.530795</td>\n",
       "      <td>16.374275</td>\n",
       "      <td>2.478428</td>\n",
       "      <td>1.304469</td>\n",
       "      <td>1.557971</td>\n",
       "      <td>1.632653</td>\n",
       "      <td>1.176471</td>\n",
       "    </tr>\n",
       "    <tr>\n",
       "      <th>std</th>\n",
       "      <td>1164.010282</td>\n",
       "      <td>1.111884</td>\n",
       "      <td>1.511238</td>\n",
       "      <td>0.238087</td>\n",
       "      <td>1.037607</td>\n",
       "      <td>7.292888</td>\n",
       "      <td>1.081277</td>\n",
       "      <td>0.603010</td>\n",
       "      <td>0.704709</td>\n",
       "      <td>0.528121</td>\n",
       "      <td>0.392953</td>\n",
       "    </tr>\n",
       "    <tr>\n",
       "      <th>min</th>\n",
       "      <td>0.000000</td>\n",
       "      <td>2.000000</td>\n",
       "      <td>2012.000000</td>\n",
       "      <td>0.000000</td>\n",
       "      <td>2.000000</td>\n",
       "      <td>1.000000</td>\n",
       "      <td>1.000000</td>\n",
       "      <td>1.000000</td>\n",
       "      <td>1.000000</td>\n",
       "      <td>1.000000</td>\n",
       "      <td>1.000000</td>\n",
       "    </tr>\n",
       "    <tr>\n",
       "      <th>25%</th>\n",
       "      <td>1007.750000</td>\n",
       "      <td>2.000000</td>\n",
       "      <td>2022.000000</td>\n",
       "      <td>1.000000</td>\n",
       "      <td>3.000000</td>\n",
       "      <td>12.000000</td>\n",
       "      <td>2.000000</td>\n",
       "      <td>1.000000</td>\n",
       "      <td>1.000000</td>\n",
       "      <td>1.000000</td>\n",
       "      <td>1.000000</td>\n",
       "    </tr>\n",
       "    <tr>\n",
       "      <th>50%</th>\n",
       "      <td>2015.500000</td>\n",
       "      <td>2.000000</td>\n",
       "      <td>2023.000000</td>\n",
       "      <td>1.000000</td>\n",
       "      <td>3.000000</td>\n",
       "      <td>16.000000</td>\n",
       "      <td>2.000000</td>\n",
       "      <td>1.000000</td>\n",
       "      <td>1.000000</td>\n",
       "      <td>2.000000</td>\n",
       "      <td>1.000000</td>\n",
       "    </tr>\n",
       "    <tr>\n",
       "      <th>75%</th>\n",
       "      <td>3023.250000</td>\n",
       "      <td>2.000000</td>\n",
       "      <td>2024.000000</td>\n",
       "      <td>1.000000</td>\n",
       "      <td>4.000000</td>\n",
       "      <td>20.000000</td>\n",
       "      <td>2.000000</td>\n",
       "      <td>2.000000</td>\n",
       "      <td>2.000000</td>\n",
       "      <td>2.000000</td>\n",
       "      <td>1.000000</td>\n",
       "    </tr>\n",
       "    <tr>\n",
       "      <th>max</th>\n",
       "      <td>4031.000000</td>\n",
       "      <td>8.000000</td>\n",
       "      <td>2025.000000</td>\n",
       "      <td>3.000000</td>\n",
       "      <td>8.000000</td>\n",
       "      <td>32.000000</td>\n",
       "      <td>8.000000</td>\n",
       "      <td>6.000000</td>\n",
       "      <td>5.000000</td>\n",
       "      <td>3.000000</td>\n",
       "      <td>2.000000</td>\n",
       "    </tr>\n",
       "  </tbody>\n",
       "</table>\n",
       "</div>"
      ],
      "text/plain": [
       "        Unnamed: 0  Sonido_Número de altavoces  \\\n",
       "count  8064.000000                 2938.000000   \n",
       "mean   2015.500000                    2.477195   \n",
       "std    1164.010282                    1.111884   \n",
       "min       0.000000                    2.000000   \n",
       "25%    1007.750000                    2.000000   \n",
       "50%    2015.500000                    2.000000   \n",
       "75%    3023.250000                    2.000000   \n",
       "max    4031.000000                    8.000000   \n",
       "\n",
       "       Otras características_Fecha de lanzamiento  \\\n",
       "count                                 3781.000000   \n",
       "mean                                  2022.613065   \n",
       "std                                      1.511238   \n",
       "min                                   2012.000000   \n",
       "25%                                   2022.000000   \n",
       "50%                                   2023.000000   \n",
       "75%                                   2024.000000   \n",
       "max                                   2025.000000   \n",
       "\n",
       "       Disco duro_Número de discos duros (instalados)  \\\n",
       "count                                     5598.000000   \n",
       "mean                                         0.988567   \n",
       "std                                          0.238087   \n",
       "min                                          0.000000   \n",
       "25%                                          1.000000   \n",
       "50%                                          1.000000   \n",
       "75%                                          1.000000   \n",
       "max                                          3.000000   \n",
       "\n",
       "       Alimentación_Número de celdas  Procesador_Número de hilos de ejecución  \\\n",
       "count                    2679.000000                              3102.000000   \n",
       "mean                        3.530795                                16.374275   \n",
       "std                         1.037607                                 7.292888   \n",
       "min                         2.000000                                 1.000000   \n",
       "25%                         3.000000                                12.000000   \n",
       "50%                         3.000000                                16.000000   \n",
       "75%                         4.000000                                20.000000   \n",
       "max                         8.000000                                32.000000   \n",
       "\n",
       "       RAM_Número de ranuras para memoria RAM  \\\n",
       "count                             1043.000000   \n",
       "mean                                 2.478428   \n",
       "std                                  1.081277   \n",
       "min                                  1.000000   \n",
       "25%                                  2.000000   \n",
       "50%                                  2.000000   \n",
       "75%                                  2.000000   \n",
       "max                                  8.000000   \n",
       "\n",
       "       Propiedades de la carcasa_Bahía interna de 2,5\"  \\\n",
       "count                                       358.000000   \n",
       "mean                                          1.304469   \n",
       "std                                           0.603010   \n",
       "min                                           1.000000   \n",
       "25%                                           1.000000   \n",
       "50%                                           1.000000   \n",
       "75%                                           2.000000   \n",
       "max                                           6.000000   \n",
       "\n",
       "       Propiedades de la carcasa_Bahía interna de 3,5\"  \\\n",
       "count                                       138.000000   \n",
       "mean                                          1.557971   \n",
       "std                                           0.704709   \n",
       "min                                           1.000000   \n",
       "25%                                           1.000000   \n",
       "50%                                           1.000000   \n",
       "75%                                           2.000000   \n",
       "max                                           5.000000   \n",
       "\n",
       "       Propiedades de la carcasa_Bahía externa de 5,25\"  \\\n",
       "count                                         49.000000   \n",
       "mean                                           1.632653   \n",
       "std                                            0.528121   \n",
       "min                                            1.000000   \n",
       "25%                                            1.000000   \n",
       "50%                                            2.000000   \n",
       "75%                                            2.000000   \n",
       "max                                            3.000000   \n",
       "\n",
       "       Propiedades de la carcasa_Bahía externa de 3,5\"  \n",
       "count                                        17.000000  \n",
       "mean                                          1.176471  \n",
       "std                                           0.392953  \n",
       "min                                           1.000000  \n",
       "25%                                           1.000000  \n",
       "50%                                           1.000000  \n",
       "75%                                           1.000000  \n",
       "max                                           2.000000  "
      ]
     },
     "execution_count": 13,
     "metadata": {},
     "output_type": "execute_result"
    }
   ],
   "source": [
    "df.describe()"
   ]
  },
  {
   "cell_type": "markdown",
   "metadata": {},
   "source": [
    "Since not every row has values for all the columns, the .describe function does not help us as much as it could. We may have to split the dataset into multiple datasets to get a better understanding of the data."
   ]
  },
  {
   "cell_type": "code",
   "execution_count": 68,
   "metadata": {},
   "outputs": [
    {
     "data": {
      "text/plain": [
       "Unnamed: 0                                         4032\n",
       "Título                                             8053\n",
       "Precio_Rango                                       6706\n",
       "Ofertas                                             110\n",
       "Tipo de producto                                     17\n",
       "                                                   ... \n",
       "Propiedades de la carcasa_Bahía externa de 3,5\"       2\n",
       "Procesador_Placa base                                13\n",
       "Otras características_Certificado RoHS                1\n",
       "Sistema operativo_Software incluido                   5\n",
       "Procesador_Procesadores compatibles                   4\n",
       "Length: 136, dtype: int64"
      ]
     },
     "execution_count": 68,
     "metadata": {},
     "output_type": "execute_result"
    }
   ],
   "source": [
    "df.nunique()\n"
   ]
  },
  {
   "cell_type": "markdown",
   "metadata": {},
   "source": [
    "There seems to be almost zero non-unqiue features. There are 8064 entries and 8053 of them are unique. All have their own values for properties that differeniate eachother. This is helpful to know that there are almost zero duplicate PC products. Let check now for any duplicates."
   ]
  },
  {
   "cell_type": "code",
   "execution_count": 14,
   "metadata": {},
   "outputs": [
    {
     "data": {
      "text/plain": [
       "np.int64(0)"
      ]
     },
     "execution_count": 14,
     "metadata": {},
     "output_type": "execute_result"
    }
   ],
   "source": [
    "df.duplicated().sum()"
   ]
  },
  {
   "cell_type": "markdown",
   "metadata": {},
   "source": [
    "Despite the number of entries (8064) and unqiue titles (8053) only slightly differing, there are no exact duplicate rows. So there is no further duplicate data handling needed."
   ]
  },
  {
   "cell_type": "code",
   "execution_count": 15,
   "metadata": {},
   "outputs": [
    {
     "data": {
      "text/plain": [
       "Unnamed: 0                                            0\n",
       "Título                                                0\n",
       "Precio_Rango                                        137\n",
       "Ofertas                                             137\n",
       "Tipo de producto                                    545\n",
       "                                                   ... \n",
       "Propiedades de la carcasa_Bahía externa de 3,5\"    8047\n",
       "Procesador_Placa base                              8036\n",
       "Otras características_Certificado RoHS             8057\n",
       "Sistema operativo_Software incluido                8058\n",
       "Procesador_Procesadores compatibles                8058\n",
       "Length: 136, dtype: int64"
      ]
     },
     "execution_count": 15,
     "metadata": {},
     "output_type": "execute_result"
    }
   ],
   "source": [
    "# Check for columns that have no values\n",
    "df.isnull().sum()"
   ]
  },
  {
   "cell_type": "markdown",
   "metadata": {},
   "source": [
    "Here we can see that there are no empty columns. We have a total of 8064 rows, and none of the columns have 8064 null values."
   ]
  },
  {
   "cell_type": "markdown",
   "metadata": {},
   "source": [
    "## Renaming Columns"
   ]
  },
  {
   "cell_type": "markdown",
   "metadata": {},
   "source": [
    "Since the names of the columns are extremely inconsistent and repetative, lets perform some operations to make sure they are simple, consistent, and follow python best practices."
   ]
  },
  {
   "cell_type": "code",
   "execution_count": 4,
   "metadata": {},
   "outputs": [
    {
     "data": {
      "text/html": [
       "<div>\n",
       "<style scoped>\n",
       "    .dataframe tbody tr th:only-of-type {\n",
       "        vertical-align: middle;\n",
       "    }\n",
       "\n",
       "    .dataframe tbody tr th {\n",
       "        vertical-align: top;\n",
       "    }\n",
       "\n",
       "    .dataframe thead th {\n",
       "        text-align: right;\n",
       "    }\n",
       "</style>\n",
       "<table border=\"1\" class=\"dataframe\">\n",
       "  <thead>\n",
       "    <tr style=\"text-align: right;\">\n",
       "      <th></th>\n",
       "      <th>unnamed_0</th>\n",
       "      <th>titulo</th>\n",
       "      <th>precio_rango</th>\n",
       "      <th>ofertas</th>\n",
       "      <th>tipo_de_producto</th>\n",
       "      <th>serie</th>\n",
       "      <th>pantalla_tamano</th>\n",
       "      <th>pantalla_diagonal</th>\n",
       "      <th>pantalla_tecnologia</th>\n",
       "      <th>pantalla_luminosidad</th>\n",
       "      <th>...</th>\n",
       "      <th>caracteristicas_especiales</th>\n",
       "      <th>almacenamiento_formato_audiovisual_compatible</th>\n",
       "      <th>otras_caracteristicas_modo_de_sonido</th>\n",
       "      <th>propiedades_de_la_carcasa_superficie_del_material</th>\n",
       "      <th>disco_duro_capacidad_disco_duro_gb</th>\n",
       "      <th>propiedades_de_la_carcasa_bahia_externa_de_3_5</th>\n",
       "      <th>procesador_placa_base</th>\n",
       "      <th>otras_caracteristicas_certificado_rohs</th>\n",
       "      <th>sistema_operativo_software_incluido</th>\n",
       "      <th>procesador_procesadores_compatibles</th>\n",
       "    </tr>\n",
       "  </thead>\n",
       "  <tbody>\n",
       "    <tr>\n",
       "      <th>0</th>\n",
       "      <td>0</td>\n",
       "      <td>Apple MacBook Air 13\" 2024 M3</td>\n",
       "      <td>1.026,53 € – 2.287,17 €</td>\n",
       "      <td>200 ofertas:</td>\n",
       "      <td>Portátil multimedia</td>\n",
       "      <td>Apple MacBook Air</td>\n",
       "      <td>13,6 pulgadas</td>\n",
       "      <td>34,544 cm</td>\n",
       "      <td>Retina</td>\n",
       "      <td>500 cd/m²</td>\n",
       "      <td>...</td>\n",
       "      <td>NaN</td>\n",
       "      <td>NaN</td>\n",
       "      <td>NaN</td>\n",
       "      <td>NaN</td>\n",
       "      <td>NaN</td>\n",
       "      <td>NaN</td>\n",
       "      <td>NaN</td>\n",
       "      <td>NaN</td>\n",
       "      <td>NaN</td>\n",
       "      <td>NaN</td>\n",
       "    </tr>\n",
       "    <tr>\n",
       "      <th>1</th>\n",
       "      <td>1</td>\n",
       "      <td>Apple MacBook Air 15\" 2024 M3</td>\n",
       "      <td>1.270,42 € – 2.672,25 €</td>\n",
       "      <td>230 ofertas:</td>\n",
       "      <td>Portátil multimedia</td>\n",
       "      <td>Apple MacBook Air</td>\n",
       "      <td>15,3 pulgadas</td>\n",
       "      <td>38,862 cm</td>\n",
       "      <td>Retina</td>\n",
       "      <td>500 cd/m²</td>\n",
       "      <td>...</td>\n",
       "      <td>NaN</td>\n",
       "      <td>NaN</td>\n",
       "      <td>NaN</td>\n",
       "      <td>NaN</td>\n",
       "      <td>NaN</td>\n",
       "      <td>NaN</td>\n",
       "      <td>NaN</td>\n",
       "      <td>NaN</td>\n",
       "      <td>NaN</td>\n",
       "      <td>NaN</td>\n",
       "    </tr>\n",
       "    <tr>\n",
       "      <th>2</th>\n",
       "      <td>2</td>\n",
       "      <td>Apple MacBook Pro 14\" M4 (2024)</td>\n",
       "      <td>1.731,44 € – 4.932,25 €</td>\n",
       "      <td>136 ofertas:</td>\n",
       "      <td>Portátil multimedia</td>\n",
       "      <td>Apple MacBook Pro</td>\n",
       "      <td>14,2 pulgadas</td>\n",
       "      <td>36,068 cm</td>\n",
       "      <td>Retina</td>\n",
       "      <td>1.000 cd/m²</td>\n",
       "      <td>...</td>\n",
       "      <td>NaN</td>\n",
       "      <td>NaN</td>\n",
       "      <td>NaN</td>\n",
       "      <td>NaN</td>\n",
       "      <td>NaN</td>\n",
       "      <td>NaN</td>\n",
       "      <td>NaN</td>\n",
       "      <td>NaN</td>\n",
       "      <td>NaN</td>\n",
       "      <td>NaN</td>\n",
       "    </tr>\n",
       "    <tr>\n",
       "      <th>3</th>\n",
       "      <td>3</td>\n",
       "      <td>ASUS TUF Gaming A15 FA506 (2024)</td>\n",
       "      <td>647,00 € – 1.031,71 €</td>\n",
       "      <td>30 ofertas:</td>\n",
       "      <td>Portátil gaming</td>\n",
       "      <td>ASUS TUF Gaming</td>\n",
       "      <td>15,6 pulgadas</td>\n",
       "      <td>39,624 cm</td>\n",
       "      <td>Full HD</td>\n",
       "      <td>NaN</td>\n",
       "      <td>...</td>\n",
       "      <td>NaN</td>\n",
       "      <td>NaN</td>\n",
       "      <td>NaN</td>\n",
       "      <td>NaN</td>\n",
       "      <td>NaN</td>\n",
       "      <td>NaN</td>\n",
       "      <td>NaN</td>\n",
       "      <td>NaN</td>\n",
       "      <td>NaN</td>\n",
       "      <td>NaN</td>\n",
       "    </tr>\n",
       "    <tr>\n",
       "      <th>4</th>\n",
       "      <td>4</td>\n",
       "      <td>GigaByte Aero 16 OLED BKF</td>\n",
       "      <td>1.031,31 € – 2.069,99 €</td>\n",
       "      <td>29 ofertas:</td>\n",
       "      <td>Portátil gaming</td>\n",
       "      <td>Gigabyte Aero</td>\n",
       "      <td>16 pulgadas</td>\n",
       "      <td>40,64 cm</td>\n",
       "      <td>UHD+</td>\n",
       "      <td>600 cd/m²</td>\n",
       "      <td>...</td>\n",
       "      <td>NaN</td>\n",
       "      <td>NaN</td>\n",
       "      <td>NaN</td>\n",
       "      <td>NaN</td>\n",
       "      <td>NaN</td>\n",
       "      <td>NaN</td>\n",
       "      <td>NaN</td>\n",
       "      <td>NaN</td>\n",
       "      <td>NaN</td>\n",
       "      <td>NaN</td>\n",
       "    </tr>\n",
       "  </tbody>\n",
       "</table>\n",
       "<p>5 rows × 136 columns</p>\n",
       "</div>"
      ],
      "text/plain": [
       "   unnamed_0                            titulo             precio_rango  \\\n",
       "0          0     Apple MacBook Air 13\" 2024 M3  1.026,53 € – 2.287,17 €   \n",
       "1          1     Apple MacBook Air 15\" 2024 M3  1.270,42 € – 2.672,25 €   \n",
       "2          2   Apple MacBook Pro 14\" M4 (2024)  1.731,44 € – 4.932,25 €   \n",
       "3          3  ASUS TUF Gaming A15 FA506 (2024)    647,00 € – 1.031,71 €   \n",
       "4          4         GigaByte Aero 16 OLED BKF  1.031,31 € – 2.069,99 €   \n",
       "\n",
       "        ofertas     tipo_de_producto              serie pantalla_tamano  \\\n",
       "0  200 ofertas:  Portátil multimedia  Apple MacBook Air   13,6 pulgadas   \n",
       "1  230 ofertas:  Portátil multimedia  Apple MacBook Air   15,3 pulgadas   \n",
       "2  136 ofertas:  Portátil multimedia  Apple MacBook Pro   14,2 pulgadas   \n",
       "3   30 ofertas:      Portátil gaming    ASUS TUF Gaming   15,6 pulgadas   \n",
       "4   29 ofertas:      Portátil gaming      Gigabyte Aero     16 pulgadas   \n",
       "\n",
       "  pantalla_diagonal pantalla_tecnologia pantalla_luminosidad  ...  \\\n",
       "0         34,544 cm              Retina            500 cd/m²  ...   \n",
       "1         38,862 cm              Retina            500 cd/m²  ...   \n",
       "2         36,068 cm              Retina          1.000 cd/m²  ...   \n",
       "3         39,624 cm             Full HD                  NaN  ...   \n",
       "4          40,64 cm                UHD+            600 cd/m²  ...   \n",
       "\n",
       "  caracteristicas_especiales almacenamiento_formato_audiovisual_compatible  \\\n",
       "0                        NaN                                           NaN   \n",
       "1                        NaN                                           NaN   \n",
       "2                        NaN                                           NaN   \n",
       "3                        NaN                                           NaN   \n",
       "4                        NaN                                           NaN   \n",
       "\n",
       "  otras_caracteristicas_modo_de_sonido  \\\n",
       "0                                  NaN   \n",
       "1                                  NaN   \n",
       "2                                  NaN   \n",
       "3                                  NaN   \n",
       "4                                  NaN   \n",
       "\n",
       "  propiedades_de_la_carcasa_superficie_del_material  \\\n",
       "0                                               NaN   \n",
       "1                                               NaN   \n",
       "2                                               NaN   \n",
       "3                                               NaN   \n",
       "4                                               NaN   \n",
       "\n",
       "  disco_duro_capacidad_disco_duro_gb  \\\n",
       "0                                NaN   \n",
       "1                                NaN   \n",
       "2                                NaN   \n",
       "3                                NaN   \n",
       "4                                NaN   \n",
       "\n",
       "  propiedades_de_la_carcasa_bahia_externa_de_3_5 procesador_placa_base  \\\n",
       "0                                            NaN                   NaN   \n",
       "1                                            NaN                   NaN   \n",
       "2                                            NaN                   NaN   \n",
       "3                                            NaN                   NaN   \n",
       "4                                            NaN                   NaN   \n",
       "\n",
       "  otras_caracteristicas_certificado_rohs sistema_operativo_software_incluido  \\\n",
       "0                                    NaN                                 NaN   \n",
       "1                                    NaN                                 NaN   \n",
       "2                                    NaN                                 NaN   \n",
       "3                                    NaN                                 NaN   \n",
       "4                                    NaN                                 NaN   \n",
       "\n",
       "  procesador_procesadores_compatibles  \n",
       "0                                 NaN  \n",
       "1                                 NaN  \n",
       "2                                 NaN  \n",
       "3                                 NaN  \n",
       "4                                 NaN  \n",
       "\n",
       "[5 rows x 136 columns]"
      ]
     },
     "execution_count": 4,
     "metadata": {},
     "output_type": "execute_result"
    }
   ],
   "source": [
    "import re\n",
    "from unidecode import unidecode\n",
    "\n",
    "# common small words to drop after chopping off the repeated category\n",
    "STOP_WORDS = {'de', 'del', 'la', 'el', 'los', 'las', 'y', 'a', 'en', 'para', 'por', 'con'}\n",
    "\n",
    "def slugify(text: str) -> str:\n",
    "    text = unidecode(text.strip())\n",
    "    text = re.sub(r'[^0-9A-Za-z]+', '_', text)   # non-alnum → _\n",
    "    text = re.sub(r'_+', '_', text)               # collapse __ → _\n",
    "    return text.strip('_').lower()\n",
    "\n",
    "def clean_col(col: str) -> str:\n",
    "    col = col.strip()\n",
    "    if \"_\" not in col:\n",
    "        return slugify(col)\n",
    "    cat_raw, attr_raw = col.split(\"_\", 1)\n",
    "    cat = slugify(cat_raw)\n",
    "    attr = slugify(attr_raw)\n",
    "\n",
    "    tokens = attr.split(\"_\")\n",
    "    if cat in tokens:\n",
    "        # keep everything before the first appearance of the category\n",
    "        idx = tokens.index(cat)\n",
    "        tokens = tokens[:idx]\n",
    "        # drop little filler words\n",
    "        tokens = [t for t in tokens if t not in STOP_WORDS]\n",
    "        attr = \"_\".join(tokens)\n",
    "\n",
    "    return f\"{cat}_{attr}\" if attr else cat\n",
    "\n",
    "# Apply toDataFrame:\n",
    "df.columns = [clean_col(c) for c in df.columns]\n",
    "\n",
    "df.head()"
   ]
  },
  {
   "cell_type": "markdown",
   "metadata": {},
   "source": [
    "#### \"Unamed\" Column"
   ]
  },
  {
   "cell_type": "markdown",
   "metadata": {},
   "source": [
    "The \"Unamed\" Column simply represents the index of the item in the csv file. Since there are no relationships between the PC parts based on the index or a UUID, we can drop this column."
   ]
  },
  {
   "cell_type": "code",
   "execution_count": 5,
   "metadata": {},
   "outputs": [],
   "source": [
    "# Drop the \"Unamed\" column\n",
    "df.drop(columns=['unnamed_0'], inplace=True)\n"
   ]
  },
  {
   "cell_type": "code",
   "execution_count": 6,
   "metadata": {},
   "outputs": [
    {
     "name": "stdout",
     "output_type": "stream",
     "text": [
      "Index(['titulo', 'precio_rango', 'ofertas', 'tipo_de_producto', 'serie',\n",
      "       'pantalla_tamano', 'pantalla_diagonal', 'pantalla_tecnologia',\n",
      "       'pantalla_luminosidad', 'procesador',\n",
      "       ...\n",
      "       'caracteristicas_especiales',\n",
      "       'almacenamiento_formato_audiovisual_compatible',\n",
      "       'otras_caracteristicas_modo_de_sonido',\n",
      "       'propiedades_de_la_carcasa_superficie_del_material',\n",
      "       'disco_duro_capacidad_disco_duro_gb',\n",
      "       'propiedades_de_la_carcasa_bahia_externa_de_3_5',\n",
      "       'procesador_placa_base', 'otras_caracteristicas_certificado_rohs',\n",
      "       'sistema_operativo_software_incluido',\n",
      "       'procesador_procesadores_compatibles'],\n",
      "      dtype='object', length=135)\n"
     ]
    }
   ],
   "source": [
    "print(df.columns)\n"
   ]
  },
  {
   "cell_type": "markdown",
   "metadata": {},
   "source": [
    "## Feature Cleaning"
   ]
  },
  {
   "cell_type": "markdown",
   "metadata": {},
   "source": [
    "For the purpose of the Feature Cleaning section, "
   ]
  },
  {
   "cell_type": "markdown",
   "metadata": {},
   "source": [
    "There are quite a few columns in this dataset that need some cleaning up. For example, the \"Precio_Rango\" is a string something like the following: \"1.026,53 € – 2.287,17 €\". This is not helpful for data processing. We need to turn this data into a framework that we can work with. In this section, we will go through every column and make sure the datatypes and values correctly match as intended."
   ]
  },
  {
   "cell_type": "markdown",
   "metadata": {},
   "source": [
    "#### \"Precio_Rango\""
   ]
  },
  {
   "cell_type": "markdown",
   "metadata": {},
   "source": [
    "The price column takes on two different forms: \n",
    "\n",
    "- **A range:** \"1.026,53 € – 2.287,17 €\"\n",
    "- **A single number:** \"479,00 €\"\n",
    "\n",
    "Despite the price of a product being a value, the column is a string, which is not helpful when querying for ranges and processing a value that is supposed to be a number.\n",
    "\n",
    "Because of these factors, we are going to split this single string column into three different float columns:\n",
    "- Precio_Max\n",
    "- Precio_Min\n",
    "- Precio_Mean"
   ]
  },
  {
   "cell_type": "code",
   "execution_count": 7,
   "metadata": {},
   "outputs": [],
   "source": [
    "import numpy as np\n",
    "import pandas as pd\n",
    "\n",
    "def process_price_range(price_str):\n",
    "    \"\"\"\n",
    "    Processes a price string (either a single price or a range)\n",
    "    and returns min, max, and mean prices as floats.\n",
    "    \n",
    "    Handles formats like \"1.026,53 € – 2.287,17 €\" or \"479,00 €\".\n",
    "    \"\"\"\n",
    "    if pd.isna(price_str):\n",
    "        return np.nan, np.nan, np.nan\n",
    "\n",
    "    # Standardize cleaning: remove currency, spaces, then fix separators\n",
    "    cleaned_str = str(price_str).replace('€', '').strip()\n",
    "    cleaned_str = cleaned_str.replace('.', '') # Remove thousands separator\n",
    "    cleaned_str = cleaned_str.replace(',', '.') # Replace decimal separator\n",
    "\n",
    "    min_price_str, max_price_str = None, None\n",
    "\n",
    "    if '–' in cleaned_str: # It's a range\n",
    "        parts = cleaned_str.split('–')\n",
    "        min_price_str = parts[0].strip()\n",
    "        max_price_str = parts[1].strip()\n",
    "    else: # It's a single price\n",
    "        min_price_str = cleaned_str\n",
    "        max_price_str = cleaned_str\n",
    "        \n",
    "    try:\n",
    "        min_price = float(min_price_str)\n",
    "        max_price = float(max_price_str)\n",
    "        mean_price = round((min_price + max_price) / 2, 2)  # Truncate to 2 decimal places\n",
    "        return min_price, max_price, mean_price\n",
    "    except (ValueError, TypeError):\n",
    "        # In case of any conversion error after splitting/cleaning\n",
    "        return np.nan, np.nan, np.nan\n",
    "\n",
    "# replace the original column with the new columns\n",
    "df['precio_min'], df['precio_max'], df['precio_mean'] = zip(*df['precio_rango'].apply(process_price_range))\n",
    "df.drop(columns=['precio_rango'], inplace=True)"
   ]
  },
  {
   "cell_type": "markdown",
   "metadata": {},
   "source": [
    "### Extracting Numerical Values from String"
   ]
  },
  {
   "cell_type": "markdown",
   "metadata": {},
   "source": [
    "While looking through each column, we recognized that to clean the data, we just needed to:\n",
    "\n",
    "- extract numerical data from string values for processing\n",
    "- standardize resolution formats\n",
    "\n",
    "Therefore, we created a few generic functions that could be used to fix up any columns that needed it. Below are those functions: "
   ]
  },
  {
   "cell_type": "code",
   "execution_count": 8,
   "metadata": {},
   "outputs": [],
   "source": [
    "def extract_numerical_value_from_string(value_str):\n",
    "    \"\"\"\n",
    "    Extracts the first numerical value (integer or float) from a string.\n",
    "    Handles NaNs, replaces commas with periods for decimal conversion.\n",
    "    \n",
    "    Args:\n",
    "        value_str: The string to process.\n",
    "        \n",
    "    Returns:\n",
    "        A float representing the extracted number, or np.nan if no number is found\n",
    "        or if the input is NaN.\n",
    "    \"\"\"\n",
    "    if pd.isna(value_str):\n",
    "        return np.nan\n",
    "\n",
    "    s = str(value_str)\n",
    "    \n",
    "    # Replace comma with period for decimal conversion\n",
    "    s = s.replace(',', '.')\n",
    "    \n",
    "    # Regex to find the first number (integer or float).\n",
    "    # This pattern matches:\n",
    "    #   \\d+\\.?\\d*  -> one or more digits, optionally followed by a decimal point and zero or more digits\n",
    "    #   |          -> OR\n",
    "    #   \\.\\d+      -> a decimal point followed by one or more digits (e.g., \".5\")\n",
    "    match = re.search(r'(\\d+\\.?\\d*|\\.\\d+)', s)\n",
    "    \n",
    "    if match:\n",
    "        try:\n",
    "            return float(match.group(1))\n",
    "        except ValueError:\n",
    "            # This should be rare if the regex is correct\n",
    "            return np.nan\n",
    "    else:\n",
    "        # If no number is found\n",
    "        return np.nan\n"
   ]
  },
  {
   "cell_type": "code",
   "execution_count": 9,
   "metadata": {},
   "outputs": [],
   "source": [
    "def extract_integer_from_string_with_dot_thousands(value_str):\n",
    "    \"\"\"\n",
    "    Extracts an integer from a string like \"5.600 MHz\" or \"32.000\".\n",
    "    Removes dots (thousands separators) and any trailing non-digits.\n",
    "    Returns the number as a float (to accommodate NaNs), or np.nan if not parsable.\n",
    "    \"\"\"\n",
    "    if pd.isna(value_str):\n",
    "        return np.nan\n",
    "\n",
    "    s = str(value_str)\n",
    "    \n",
    "    # Remove dots (thousands separators)\n",
    "    s_no_dots = s.replace('.', '')\n",
    "    \n",
    "    # Regex to find the first sequence of digits in the string (after removing dots)\n",
    "    # This will extract \"5600\" from \"5600 MHz\"\n",
    "    match = re.search(r'(\\d+)', s_no_dots)\n",
    "    \n",
    "    if match:\n",
    "        try:\n",
    "            return float(match.group(1)) # Using float for consistency with NaNs\n",
    "        except ValueError:\n",
    "            return np.nan\n",
    "    else:\n",
    "        # If no digits are found\n",
    "        return np.nan"
   ]
  },
  {
   "cell_type": "markdown",
   "metadata": {},
   "source": [
    "### Parsing resolution to width x height format"
   ]
  },
  {
   "cell_type": "markdown",
   "metadata": {},
   "source": [
    "Here is the rest of the generic functions that deal with parsing the resolution to a widthxheight format for features dealing with pixel quality"
   ]
  },
  {
   "cell_type": "code",
   "execution_count": 10,
   "metadata": {},
   "outputs": [],
   "source": [
    "def parse_resolution_to_wxh_format_modified(resolution_str):\n",
    "    \"\"\"\n",
    "    Parses a resolution string and standardizes it to \"WIDTHxHEIGHT\" format.\n",
    "    Extracts the first numerical WxH pattern found.\n",
    "    Handles thousands separators like '.' (e.g., \"3.024 x 1.964\").\n",
    "    Example: \"hasta 1920x1080 @ 60Hz\" -> \"1920x1080\"\n",
    "    Example: \"4K (3.840 x 2.160)\" -> \"3840x2160\"\n",
    "    Example: \"3.024 x 1.964 pixles\" -> \"3024x1964\"\n",
    "    Returns the standardized string, or np.nan if not parsable or input is NaN.\n",
    "    \"\"\"\n",
    "    if pd.isna(resolution_str):\n",
    "        return np.nan\n",
    "\n",
    "    s = str(resolution_str)\n",
    "    \n",
    "    # Remove dots used as thousands separators before regex matching\n",
    "    # This allows \"3.024\" to become \"3024\" for matching purposes\n",
    "    s_cleaned_for_regex = s.replace('.', '')\n",
    "    \n",
    "    # Regex to find patterns like \"1920x1080\" or \"3840 x 2160\"\n",
    "    # Looks for two numbers (3+ digits each) separated by 'x' (case-insensitive),\n",
    "    # with optional spaces. Applied on the cleaned string.\n",
    "    match = re.search(r'(\\d{3,})\\s*[xX]\\s*(\\d{3,})', s_cleaned_for_regex)\n",
    "    \n",
    "    if match:\n",
    "        try:\n",
    "            # The matched groups will already be dot-free due to s_cleaned_for_regex\n",
    "            width = int(match.group(1))\n",
    "            height = int(match.group(2))\n",
    "            return f\"{width}x{height}\"\n",
    "        except ValueError:\n",
    "            # This case should be rare if the regex matches digits\n",
    "            return np.nan\n",
    "    else:\n",
    "        return np.nan\n"
   ]
  },
  {
   "cell_type": "code",
   "execution_count": 11,
   "metadata": {},
   "outputs": [],
   "source": [
    "def standardize_resolution_column(df, input_col_name, output_col_name, drop_input_col=False):\n",
    "    \"\"\"\n",
    "    Applies WxH resolution standardization to a DataFrame column.\n",
    "\n",
    "    Args:\n",
    "        df (pd.DataFrame): The DataFrame to modify.\n",
    "        input_col_name (str): The name of the column containing resolution strings to process.\n",
    "        output_col_name (str): The name of the column to store the standardized resolutions.\n",
    "                               If same as input_col_name, the input column will be overwritten.\n",
    "        drop_input_col (bool): If True and output_col_name is different from input_col_name,\n",
    "                               the original input_col_name will be dropped.\n",
    "                               This parameter is ignored if input_col_name and output_col_name are the same.\n",
    "    Returns:\n",
    "        pd.DataFrame: The DataFrame with the processed column.\n",
    "    \"\"\"\n",
    "    if input_col_name not in df.columns:\n",
    "        print(f\"Error: Input column '{input_col_name}' not found in DataFrame. Skipping.\")\n",
    "        return df\n",
    "\n",
    "    # Apply the parsing function\n",
    "    df[output_col_name] = df[input_col_name].apply(parse_resolution_to_wxh_format_modified)\n",
    "\n",
    "    print(f\"Standardized column '{input_col_name}' into '{output_col_name}'.\")\n",
    "    print(\"\\nSample of input and output columns (where input was not NaN):\")\n",
    "    \n",
    "    sample_df = df[df[input_col_name].notna()][[input_col_name, output_col_name]].drop_duplicates().head(10)\n",
    "    if not sample_df.empty:\n",
    "        print(sample_df)\n",
    "    else:\n",
    "        print(f\"No processable non-NaN data found in '{input_col_name}' or no transformations occurred.\")\n",
    "\n",
    "    print(f\"\\nValue counts for '{output_col_name}':\")\n",
    "    print(df[output_col_name].value_counts(dropna=False).head(10))\n",
    "    \n",
    "    print(f\"\\nData type of '{output_col_name}': {df[output_col_name].dtype}\")\n",
    "\n",
    "    if drop_input_col and input_col_name != output_col_name:\n",
    "        if input_col_name in df.columns: # Ensure it still exists (it should)\n",
    "            df.drop(columns=[input_col_name], inplace=True)\n",
    "            print(f\"\\nOriginal column '{input_col_name}' dropped.\")\n",
    "        else:\n",
    "            # This case should ideally not be reached if input_col_name was present initially\n",
    "            print(f\"\\nWarning: Original column '{input_col_name}' was not found for dropping, though it should exist.\")\n",
    "            \n",
    "    elif drop_input_col and input_col_name == output_col_name:\n",
    "        print(f\"\\nInput column '{input_col_name}' was overwritten. Drop parameter ignored.\")\n",
    "        \n",
    "    print(\"-\" * 50)\n",
    "    return df\n"
   ]
  },
  {
   "cell_type": "markdown",
   "metadata": {},
   "source": [
    "### Apply generic functions to clean up columns"
   ]
  },
  {
   "cell_type": "markdown",
   "metadata": {},
   "source": [
    "Below are all the columns that required a bit of clean up, and where we applied our generic functions."
   ]
  },
  {
   "cell_type": "markdown",
   "metadata": {},
   "source": [
    "#### \"Ofertas\""
   ]
  },
  {
   "cell_type": "markdown",
   "metadata": {},
   "source": [
    "We want to clean the 'Ofertas' column in the dataset because it currently contains strings such as: \n",
    "- \"200 ofertas:\"\n",
    "- \"30 ofertas,\" \n",
    "- \"1 oferta:\" \n",
    "\n",
    "The goal is to extract only the numeric part, for example, 200 or 30, by removing any accompanying words or extra characters. Once cleaned, the values will be converted into float type to make them ready for numerical operations. This cleaning is necessary because the word \"ofertas\" is unnecessary for data analysis, and having clean numeric data allows us to easily perform tasks such as aggregating totals, calculating averages, visualizing the data, and comparing the number of offers between different products."
   ]
  },
  {
   "cell_type": "code",
   "execution_count": 30,
   "metadata": {},
   "outputs": [],
   "source": [
    "df['ofertas'] = df['ofertas'].apply(extract_numerical_value_from_string)"
   ]
  },
  {
   "cell_type": "markdown",
   "metadata": {},
   "source": [
    "#### \"Pantalla_Tamaño de la pantalla\""
   ]
  },
  {
   "cell_type": "markdown",
   "metadata": {},
   "source": [
    "For the 'Pantalla_Tamaño de la pantalla' column, we firstly want to clean the column name to be just \"pantalla_tamano_pulgadas\". Then, we aim to clean the data to make it more appropriate for numerical analysis. The column currently contains entries like:\n",
    "- \"13,6 pulgadas\"\n",
    "- \"15,3 pulgadas,\" \n",
    "\n",
    "Which combine the screen size with its unit of measurement. The task is to isolate the numeric part of the string, such as 13.6 or 15.3, and remove any associated text or symbols. After cleaning, the values will be converted into floats."
   ]
  },
  {
   "cell_type": "code",
   "execution_count": 12,
   "metadata": {},
   "outputs": [
    {
     "name": "stdout",
     "output_type": "stream",
     "text": [
      "Column 'pantalla_tamano' renamed to 'pantalla_tamano_pulgadas'\n",
      "Cleaned data in 'pantalla_tamano_pulgadas' column.\n"
     ]
    }
   ],
   "source": [
    "original_col_name = 'pantalla_tamano'\n",
    "new_col_name = 'pantalla_tamano_pulgadas'\n",
    "\n",
    "if original_col_name in df.columns:\n",
    "    df.rename(columns={original_col_name: new_col_name}, inplace=True)\n",
    "    print(f\"Column '{original_col_name}' renamed to '{new_col_name}'\")\n",
    "\n",
    "# 2. Clean the data in the newly renamed column\n",
    "if new_col_name in df.columns: # Check if renaming was successful (or if it already existed)\n",
    "    df[new_col_name] = df[new_col_name].apply(extract_numerical_value_from_string)\n",
    "    print(f\"Cleaned data in '{new_col_name}' column.\")\n",
    "else:\n",
    "    print(f\"Column '{new_col_name}' not found after attempting rename.\")"
   ]
  },
  {
   "cell_type": "markdown",
   "metadata": {},
   "source": [
    "#### \"Pantalla_Diagonal de la pantalla\""
   ]
  },
  {
   "cell_type": "markdown",
   "metadata": {},
   "source": [
    "Firstly, we want to rename the \"pantalla_diagonal\" to simply \"pantalla_diagonal_cm\".\n",
    "\n",
    "Secondly, the cleaning process involves extracting only the numeric values from strings that currently include both the size and the unit of measurement, such as \"34,544 cm\" or \"40,64 cm.\" The objective is to remove the text and retain only the numeric component, such as 34.544 or 40.64, which will then be converted into floats."
   ]
  },
  {
   "cell_type": "code",
   "execution_count": 13,
   "metadata": {},
   "outputs": [
    {
     "name": "stdout",
     "output_type": "stream",
     "text": [
      "Column 'pantalla_diagonal' renamed to 'pantalla_diagonal_cm'\n",
      "Cleaned data in 'pantalla_diagonal_cm' column.\n"
     ]
    }
   ],
   "source": [
    "original_col_name_diag = \"pantalla_diagonal\"\n",
    "new_col_name_diag = \"pantalla_diagonal_cm\"\n",
    "\n",
    "if original_col_name_diag in df.columns:\n",
    "    df.rename(columns={original_col_name_diag: new_col_name_diag}, inplace=True)\n",
    "    print(f\"Column '{original_col_name_diag}' renamed to '{new_col_name_diag}'\")\n",
    "\n",
    "    # 2. Clean the data in the newly renamed column\n",
    "    if new_col_name_diag in df.columns: # Check if renaming was successful\n",
    "        df[new_col_name_diag] = df[new_col_name_diag].apply(extract_numerical_value_from_string)\n",
    "        print(f\"Cleaned data in '{new_col_name_diag}' column.\")\n",
    "    else:\n",
    "        print(f\"Column '{new_col_name_diag}' not found after attempting rename.\")\n",
    "elif new_col_name_diag in df.columns: # If it was already named 'Pantalla_Diagonal'\n",
    "    df[new_col_name_diag] = df[new_col_name_diag].apply(extract_numerical_value_from_string)\n",
    "    print(f\"Cleaned data in existing '{new_col_name_diag}' column.\")\n",
    "else:\n",
    "    print(f\"Original column '{original_col_name_diag}' not found. No action taken.\")"
   ]
  },
  {
   "cell_type": "markdown",
   "metadata": {},
   "source": [
    "#### \"Pantalla_Luminosidad\""
   ]
  },
  {
   "cell_type": "markdown",
   "metadata": {},
   "source": [
    "We will clean the 'Pantalla_Luminosidad' column by removing the unit of measurement and any formatting symbols, such as \"cd/m²\" and thousand separators, to keep only the numeric brightness values as floats. This will allow us to perform accurate numerical operations like averaging, comparing, or visualizing brightness levels across devices. \n",
    "\n",
    "Secondly, after cleaning the data, we will rename the column to 'pantalla_luminosidad_cd_m2' to make the unit of measurement explicitly part of the column name. This ensures that, even though the values are now purely numeric, it remains clear that they represent brightness in candela per square meter, improving both clarity and documentation of the dataset."
   ]
  },
  {
   "cell_type": "code",
   "execution_count": 14,
   "metadata": {},
   "outputs": [
    {
     "name": "stdout",
     "output_type": "stream",
     "text": [
      "Cleaned data in 'pantalla_luminosidad'.\n",
      "Column 'pantalla_luminosidad' renamed to 'pantalla_luminosidad_cd_m2'.\n"
     ]
    }
   ],
   "source": [
    "original_luminosidad_col = 'pantalla_luminosidad'\n",
    "new_luminosidad_col = 'pantalla_luminosidad_cd_m2'\n",
    "\n",
    "if original_luminosidad_col in df.columns:\n",
    "    # 1. Clean the data in the original column\n",
    "    df[original_luminosidad_col] = df[original_luminosidad_col].apply(extract_numerical_value_from_string)\n",
    "    print(f\"Cleaned data in '{original_luminosidad_col}'.\")\n",
    "    \n",
    "    # 2. Rename the column\n",
    "    df.rename(columns={original_luminosidad_col: new_luminosidad_col}, inplace=True)\n",
    "    print(f\"Column '{original_luminosidad_col}' renamed to '{new_luminosidad_col}'.\")\n",
    "else:\n",
    "    print(f\"Column '{original_luminosidad_col}' not found.\")"
   ]
  },
  {
   "cell_type": "markdown",
   "metadata": {},
   "source": [
    "#### \"Grafica_Resolucion externa\""
   ]
  },
  {
   "cell_type": "markdown",
   "metadata": {},
   "source": [
    "In the 'Gráfica_Resolución externa' column, we would standardize the format of the resolution values by making sure the resolution looks like: 1920x1080. This would make the data cleaner and more usable for numerical analysis and comparison of display resolutions. Removing any unnecessary characters like parentheses would also make the values more consistent."
   ]
  },
  {
   "cell_type": "code",
   "execution_count": 15,
   "metadata": {},
   "outputs": [
    {
     "name": "stdout",
     "output_type": "stream",
     "text": [
      "Standardized column 'grafica_resolucion_externa' into 'grafica_resolucion_externa_std'.\n",
      "\n",
      "Sample of input and output columns (where input was not NaN):\n",
      "     grafica_resolucion_externa grafica_resolucion_externa_std\n",
      "0              6K (6016 x 3384)                      6016x3384\n",
      "2              8K (8192 x 4608)                      8192x4608\n",
      "3              4K (4096 x 2304)                      4096x2304\n",
      "965            5K (5120 x 2880)                      5120x2880\n",
      "1823        WQXGA (2560 x 1600)                      2560x1600\n",
      "3528          UHD (3840 x 2160)                      3840x2160\n",
      "\n",
      "Value counts for 'grafica_resolucion_externa_std':\n",
      "grafica_resolucion_externa_std\n",
      "NaN          7656\n",
      "6016x3384     169\n",
      "8192x4608     162\n",
      "4096x2304      65\n",
      "5120x2880       6\n",
      "2560x1600       5\n",
      "3840x2160       1\n",
      "Name: count, dtype: int64\n",
      "\n",
      "Data type of 'grafica_resolucion_externa_std': object\n",
      "\n",
      "Original column 'grafica_resolucion_externa' dropped.\n",
      "--------------------------------------------------\n"
     ]
    }
   ],
   "source": [
    "df = standardize_resolution_column(df, \n",
    "                                   input_col_name='grafica_resolucion_externa', \n",
    "                                   output_col_name='grafica_resolucion_externa_std', \n",
    "                                   drop_input_col=True)"
   ]
  },
  {
   "cell_type": "markdown",
   "metadata": {},
   "source": [
    "#### \"Cámara_Resolución de la cámara\""
   ]
  },
  {
   "cell_type": "code",
   "execution_count": 16,
   "metadata": {},
   "outputs": [
    {
     "data": {
      "text/plain": [
       "array(['1920 x 1080\\xa0píxeles', nan, '720 x 480\\xa0píxeles',\n",
       "       '1280 x 720\\xa0píxeles', '640 x 480\\xa0píxeles',\n",
       "       '2560 x 1440\\xa0píxeles', '2592 x 1944\\xa0píxeles',\n",
       "       '480 x 640\\xa0píxeles'], dtype=object)"
      ]
     },
     "execution_count": 16,
     "metadata": {},
     "output_type": "execute_result"
    }
   ],
   "source": [
    "# Check the unique values in the column\n",
    "df['camara_resolucion'].unique()"
   ]
  },
  {
   "cell_type": "code",
   "execution_count": 17,
   "metadata": {},
   "outputs": [
    {
     "name": "stdout",
     "output_type": "stream",
     "text": [
      "Standardized column 'camara_resolucion' into 'camara_resolucion_pulgadas'.\n",
      "\n",
      "Sample of input and output columns (where input was not NaN):\n",
      "        camara_resolucion camara_resolucion_pulgadas\n",
      "0     1920 x 1080 píxeles                  1920x1080\n",
      "11      720 x 480 píxeles                    720x480\n",
      "15     1280 x 720 píxeles                   1280x720\n",
      "150     640 x 480 píxeles                    640x480\n",
      "652   2560 x 1440 píxeles                  2560x1440\n",
      "1819  2592 x 1944 píxeles                  2592x1944\n",
      "2413    480 x 640 píxeles                    480x640\n",
      "\n",
      "Value counts for 'camara_resolucion_pulgadas':\n",
      "camara_resolucion_pulgadas\n",
      "NaN          5270\n",
      "1280x720     1453\n",
      "1920x1080    1296\n",
      "720x480        16\n",
      "640x480        10\n",
      "2560x1440      10\n",
      "2592x1944       7\n",
      "480x640         2\n",
      "Name: count, dtype: int64\n",
      "\n",
      "Data type of 'camara_resolucion_pulgadas': object\n",
      "--------------------------------------------------\n"
     ]
    }
   ],
   "source": [
    "df = standardize_resolution_column(df, \n",
    "                                   input_col_name='camara_resolucion', \n",
    "                                   output_col_name='camara_resolucion_pulgadas', # Overwrites\n",
    "                                   drop_input_col=False) # drop_input_col is ignored if names are same"
   ]
  },
  {
   "cell_type": "markdown",
   "metadata": {},
   "source": [
    "#### \"Teclado_Número de teclas\""
   ]
  },
  {
   "cell_type": "code",
   "execution_count": 18,
   "metadata": {},
   "outputs": [
    {
     "name": "stdout",
     "output_type": "stream",
     "text": [
      "Processed 'teclado_numero_de_teclas' into 'teclado_numero_de_teclas'. Sample:\n",
      "     teclado_numero_de_teclas  teclado_numero_de_teclas\n",
      "0                        79.0                      79.0\n",
      "20                       98.0                      98.0\n",
      "278                      80.0                      80.0\n",
      "686                      84.0                      84.0\n",
      "873                      66.0                      66.0\n"
     ]
    }
   ],
   "source": [
    "original_col = 'teclado_numero_de_teclas' \n",
    "new_col = 'teclado_numero_de_teclas'\n",
    "if original_col in df.columns:\n",
    "    df[new_col] = df[original_col].apply(extract_numerical_value_from_string)\n",
    "    print(f\"Processed '{original_col}' into '{new_col}'. Sample:\")\n",
    "    print(df[[original_col, new_col]].dropna(subset=[original_col]).drop_duplicates().head())\n",
    "else:\n",
    "    print(f\"Column {original_col} not found.\")\n"
   ]
  },
  {
   "cell_type": "markdown",
   "metadata": {},
   "source": [
    "#### \"Alimentación_Autonomía de la batería\""
   ]
  },
  {
   "cell_type": "code",
   "execution_count": 19,
   "metadata": {},
   "outputs": [
    {
     "data": {
      "text/plain": [
       "array(['15\\xa0h', '13\\xa0h', nan, '8,4\\xa0h', '5,3\\xa0h', '5,5\\xa0h',\n",
       "       '23\\xa0h', '8\\xa0h', '7,5\\xa0h', '14\\xa0h', '7,25\\xa0h',\n",
       "       '4,5\\xa0h', '10\\xa0h', '27\\xa0h', '7,6\\xa0h', '6,75\\xa0h',\n",
       "       '10,25\\xa0h', '12\\xa0h', '9,7\\xa0h', '7\\xa0h', '16\\xa0h',\n",
       "       '20\\xa0h', '6,25\\xa0h', '17\\xa0h', '12,5\\xa0h', '8,25\\xa0h',\n",
       "       '9\\xa0h', '29\\xa0h', '18\\xa0h', '13,4\\xa0h', '29,5\\xa0h', '4\\xa0h',\n",
       "       '19\\xa0h', '24,5\\xa0h', '6\\xa0h', '23,5\\xa0h', '15,5\\xa0h',\n",
       "       '15,3\\xa0h', '11,5\\xa0h', '4,75\\xa0h', '10,5\\xa0h', '13,5\\xa0h',\n",
       "       '18,5\\xa0h', '21,4\\xa0h', '22\\xa0h', '11\\xa0h', '7,4\\xa0h',\n",
       "       '11,75\\xa0h', '8,5\\xa0h', '15,25\\xa0h', '13,6\\xa0h', '8,1\\xa0h',\n",
       "       '5\\xa0h', '9,75\\xa0h', '13,25\\xa0h', '17,5\\xa0h', '9,5\\xa0h',\n",
       "       '26\\xa0h', '11,1\\xa0h', '23,25\\xa0h', '6,5\\xa0h', '14,5\\xa0h',\n",
       "       '12,8\\xa0h', '20,5\\xa0h', '11,25\\xa0h', '15,4\\xa0h', '9,25\\xa0h',\n",
       "       '9,4\\xa0h', '8,75\\xa0h'], dtype=object)"
      ]
     },
     "execution_count": 19,
     "metadata": {},
     "output_type": "execute_result"
    }
   ],
   "source": [
    "df['alimentacion_autonomia_de_la_bateria'].unique()"
   ]
  },
  {
   "cell_type": "code",
   "execution_count": 20,
   "metadata": {},
   "outputs": [
    {
     "name": "stdout",
     "output_type": "stream",
     "text": [
      "Processed 'alimentacion_autonomia_de_la_bateria' into 'alimentacion_autonomia_de_la_bateria_horas'. Sample:\n",
      "   alimentacion_autonomia_de_la_bateria  \\\n",
      "0                                  15 h   \n",
      "2                                  13 h   \n",
      "10                                8,4 h   \n",
      "12                                5,3 h   \n",
      "19                                5,5 h   \n",
      "\n",
      "    alimentacion_autonomia_de_la_bateria_horas  \n",
      "0                                         15.0  \n",
      "2                                         13.0  \n",
      "10                                         8.4  \n",
      "12                                         5.3  \n",
      "19                                         5.5  \n"
     ]
    }
   ],
   "source": [
    "original_col = 'alimentacion_autonomia_de_la_bateria' \n",
    "new_col = 'alimentacion_autonomia_de_la_bateria_horas'\n",
    "if original_col in df.columns:\n",
    "    df[new_col] = df[original_col].apply(extract_numerical_value_from_string)\n",
    "    print(f\"Processed '{original_col}' into '{new_col}'. Sample:\")\n",
    "    print(df[[original_col, new_col]].dropna(subset=[original_col]).drop_duplicates().head())\n",
    "else:\n",
    "    print(f\"Column {original_col} not found.\")\n"
   ]
  },
  {
   "cell_type": "markdown",
   "metadata": {},
   "source": [
    "#### \"Alimentación_Vatios-hora\""
   ]
  },
  {
   "cell_type": "code",
   "execution_count": 21,
   "metadata": {},
   "outputs": [
    {
     "data": {
      "text/plain": [
       "array(['52,6\\xa0Wh', '66,5\\xa0Wh', '70\\xa0Wh', '48\\xa0Wh', '88\\xa0Wh',\n",
       "       '75\\xa0Wh', '90\\xa0Wh', '38\\xa0Wh', '50\\xa0Wh', '60\\xa0Wh',\n",
       "       '73\\xa0Wh', '54\\xa0Wh', '42\\xa0Wh', '72\\xa0Wh', '99\\xa0Wh',\n",
       "       '86\\xa0Wh', '76\\xa0Wh', '45\\xa0Wh', '65\\xa0Wh', '83\\xa0Wh',\n",
       "       '53,5\\xa0Wh', '35\\xa0Wh', '63\\xa0Wh', '53,8\\xa0Wh', '68\\xa0Wh',\n",
       "       '47\\xa0Wh', '100\\xa0Wh', '80\\xa0Wh', '53\\xa0Wh', nan, '61\\xa0Wh',\n",
       "       '41\\xa0Wh', '95\\xa0Wh', '57\\xa0Wh', '67\\xa0Wh', '78\\xa0Wh',\n",
       "       '52,4\\xa0Wh', '51,3\\xa0Wh', '77\\xa0Wh', '48,5\\xa0Wh', '52\\xa0Wh',\n",
       "       '48,8\\xa0Wh', '73,6\\xa0Wh', '56\\xa0Wh', '71\\xa0Wh', '40\\xa0Wh',\n",
       "       '52,5\\xa0Wh', '55\\xa0Wh', '99,9\\xa0Wh', '43\\xa0Wh', '36\\xa0Wh',\n",
       "       '46\\xa0Wh', '53,3\\xa0Wh', '45,8\\xa0Wh', '82\\xa0Wh', '39\\xa0Wh',\n",
       "       '64\\xa0Wh', '37\\xa0Wh', '66\\xa0Wh', '74\\xa0Wh', '94\\xa0Wh',\n",
       "       '63,5\\xa0Wh', '48,96\\xa0Wh', '59\\xa0Wh', '84\\xa0Wh', '51\\xa0Wh',\n",
       "       '58\\xa0Wh', '42,75\\xa0Wh', '58,2\\xa0Wh', '47,4\\xa0Wh',\n",
       "       '51,5\\xa0Wh', '92\\xa0Wh', '97\\xa0Wh', '96\\xa0Wh', '42,3\\xa0Wh',\n",
       "       '49,5\\xa0Wh', '62\\xa0Wh', '54,7\\xa0Wh', '49\\xa0Wh', '99,5\\xa0Wh',\n",
       "       '83,6\\xa0Wh', '62,32\\xa0Wh', '41,4\\xa0Wh', '54,5\\xa0Wh',\n",
       "       '44,5\\xa0Wh', '33\\xa0Wh', '27\\xa0Wh', '58,7\\xa0Wh', '31\\xa0Wh',\n",
       "       '87\\xa0Wh', '73,4\\xa0Wh', '99,8\\xa0Wh', '70,5\\xa0Wh',\n",
       "       '94,24\\xa0Wh'], dtype=object)"
      ]
     },
     "execution_count": 21,
     "metadata": {},
     "output_type": "execute_result"
    }
   ],
   "source": [
    "df['alimentacion_vatios_hora'].unique()"
   ]
  },
  {
   "cell_type": "code",
   "execution_count": 22,
   "metadata": {},
   "outputs": [
    {
     "name": "stdout",
     "output_type": "stream",
     "text": [
      "Processed 'alimentacion_vatios_hora' into 'alimentacion_vatios_hora'. Sample:\n",
      "   alimentacion_vatios_hora  alimentacion_vatios_hora\n",
      "0                      52.6                      52.6\n",
      "1                      66.5                      66.5\n",
      "2                      70.0                      70.0\n",
      "3                      48.0                      48.0\n",
      "4                      88.0                      88.0\n"
     ]
    }
   ],
   "source": [
    "original_col = 'alimentacion_vatios_hora'\n",
    "new_col = 'alimentacion_vatios_hora'\n",
    "if original_col in df.columns:\n",
    "    df[new_col] = df[original_col].apply(extract_numerical_value_from_string)\n",
    "    print(f\"Processed '{original_col}' into '{new_col}'. Sample:\")\n",
    "    print(df[[original_col, new_col]].dropna(subset=[original_col]).drop_duplicates().head())\n",
    "else:\n",
    "    print(f\"Column {original_col} not found.\")"
   ]
  },
  {
   "cell_type": "markdown",
   "metadata": {},
   "source": [
    "#### \"Alimentación_Alimentación\""
   ]
  },
  {
   "cell_type": "code",
   "execution_count": 23,
   "metadata": {},
   "outputs": [
    {
     "name": "stdout",
     "output_type": "stream",
     "text": [
      "Processed 'alimentacion' into 'alimentacion_vatios'. Sample:\n",
      "  alimentacion  alimentacion_vatios\n",
      "0         30 W                 30.0\n",
      "1         35 W                 35.0\n",
      "2         67 W                 67.0\n",
      "4        240 W                240.0\n",
      "5         65 W                 65.0\n"
     ]
    }
   ],
   "source": [
    "original_col = 'alimentacion'\n",
    "new_col = 'alimentacion_vatios'\n",
    "if original_col in df.columns:\n",
    "    df[new_col] = df[original_col].apply(extract_numerical_value_from_string)\n",
    "    print(f\"Processed '{original_col}' into '{new_col}'. Sample:\")\n",
    "    print(df[[original_col, new_col]].dropna(subset=[original_col]).drop_duplicates().head())\n",
    "else:\n",
    "    print(f\"Column {original_col} not found.\")"
   ]
  },
  {
   "cell_type": "markdown",
   "metadata": {},
   "source": [
    "#### \"Medidas y peso_Profundidad\""
   ]
  },
  {
   "cell_type": "code",
   "execution_count": 24,
   "metadata": {},
   "outputs": [
    {
     "name": "stdout",
     "output_type": "stream",
     "text": [
      "Processed 'medidas_y_peso_profundidad' into 'medidas_y_peso_profundidad_cm'. Sample:\n",
      "  medidas_y_peso_profundidad  medidas_y_peso_profundidad_cm\n",
      "0                    21,5 cm                           21.5\n",
      "1                    23,8 cm                           23.8\n",
      "2                    22,1 cm                           22.1\n",
      "3                    25,6 cm                           25.6\n",
      "4                    25,5 cm                           25.5\n"
     ]
    }
   ],
   "source": [
    "original_col = 'medidas_y_peso_profundidad'\n",
    "new_col = 'medidas_y_peso_profundidad_cm'\n",
    "if original_col in df.columns:\n",
    "    df[new_col] = df[original_col].apply(extract_numerical_value_from_string)\n",
    "    print(f\"Processed '{original_col}' into '{new_col}'. Sample:\")\n",
    "    print(df[[original_col, new_col]].dropna(subset=[original_col]).drop_duplicates().head())\n",
    "else:\n",
    "    print(f\"Column {original_col} not found.\")"
   ]
  },
  {
   "cell_type": "markdown",
   "metadata": {},
   "source": [
    "#### \"Medidas y peso_Altura\""
   ]
  },
  {
   "cell_type": "code",
   "execution_count": 25,
   "metadata": {},
   "outputs": [
    {
     "name": "stdout",
     "output_type": "stream",
     "text": [
      "Processed 'medidas_y_peso_altura' into 'medidas_y_peso_altura_mm'. Sample:\n",
      "  medidas_y_peso_altura  medidas_y_peso_altura_mm\n",
      "0                 11 mm                      11.0\n",
      "1                 12 mm                      12.0\n",
      "2                 16 mm                      16.0\n",
      "3                 23 mm                      23.0\n",
      "4                 22 mm                      22.0\n"
     ]
    }
   ],
   "source": [
    "original_col = 'medidas_y_peso_altura'\n",
    "new_col = 'medidas_y_peso_altura_mm'\n",
    "if original_col in df.columns:\n",
    "    df[new_col] = df[original_col].apply(extract_numerical_value_from_string)\n",
    "    print(f\"Processed '{original_col}' into '{new_col}'. Sample:\")\n",
    "    print(df[[original_col, new_col]].dropna(subset=[original_col]).drop_duplicates().head())\n",
    "else:\n",
    "    print(f\"Column {original_col} not found.\")"
   ]
  },
  {
   "cell_type": "markdown",
   "metadata": {},
   "source": [
    "#### \"Medidas y peso_Ancho\""
   ]
  },
  {
   "cell_type": "code",
   "execution_count": 26,
   "metadata": {},
   "outputs": [
    {
     "name": "stdout",
     "output_type": "stream",
     "text": [
      "Processed 'medidas_y_peso_ancho' into 'medidas_y_peso_ancho_cm'. Sample:\n",
      "  medidas_y_peso_ancho  medidas_y_peso_ancho_cm\n",
      "0              30,4 cm                     30.4\n",
      "1                34 cm                     34.0\n",
      "2              31,3 cm                     31.3\n",
      "3              35,9 cm                     35.9\n",
      "4              35,4 cm                     35.4\n"
     ]
    }
   ],
   "source": [
    "original_col = 'medidas_y_peso_ancho'\n",
    "new_col = 'medidas_y_peso_ancho_cm'\n",
    "if original_col in df.columns:\n",
    "    df[new_col] = df[original_col].apply(extract_numerical_value_from_string)\n",
    "    print(f\"Processed '{original_col}' into '{new_col}'. Sample:\")\n",
    "    print(df[[original_col, new_col]].dropna(subset=[original_col]).drop_duplicates().head())\n",
    "else:\n",
    "    print(f\"Column {original_col} not found.\")"
   ]
  },
  {
   "cell_type": "markdown",
   "metadata": {},
   "source": [
    "#### \"Medidas y peso_Peso\""
   ]
  },
  {
   "cell_type": "code",
   "execution_count": 27,
   "metadata": {},
   "outputs": [
    {
     "name": "stdout",
     "output_type": "stream",
     "text": [
      "Processed 'medidas_y_peso_peso' into 'medidas_y_peso_peso_kg'. Sample:\n",
      "  medidas_y_peso_peso  medidas_y_peso_peso_kg\n",
      "0             1,24 kg                    1.24\n",
      "1             1,51 kg                    1.51\n",
      "2              1,6 kg                    1.60\n",
      "3              2,3 kg                    2.30\n",
      "4              1,9 kg                    1.90\n"
     ]
    }
   ],
   "source": [
    "original_col = 'medidas_y_peso_peso'\n",
    "new_col = 'medidas_y_peso_peso_kg'\n",
    "if original_col in df.columns:\n",
    "    df[new_col] = df[original_col].apply(extract_numerical_value_from_string)\n",
    "    print(f\"Processed '{original_col}' into '{new_col}'. Sample:\")\n",
    "    print(df[[original_col, new_col]].dropna(subset=[original_col]).drop_duplicates().head())\n",
    "else:\n",
    "    print(f\"Column {original_col} not found.\")"
   ]
  },
  {
   "cell_type": "markdown",
   "metadata": {},
   "source": [
    "#### \"Pantalla_Resolución de pantalla\""
   ]
  },
  {
   "cell_type": "code",
   "execution_count": 28,
   "metadata": {},
   "outputs": [
    {
     "name": "stdout",
     "output_type": "stream",
     "text": [
      "Standardized column 'pantalla_resolucion' into 'pantalla_resolucion_pulgadas'.\n",
      "\n",
      "Sample of input and output columns (where input was not NaN):\n",
      "      pantalla_resolucion pantalla_resolucion_pulgadas\n",
      "2   3.024 x 1.964 píxeles                    3024x1964\n",
      "3   1.920 x 1.080 píxeles                    1920x1080\n",
      "5   2.880 x 1.800 píxeles                    2880x1800\n",
      "18  3.840 x 2.400 píxeles                    3840x2400\n",
      "21  1.920 x 1.200 píxeles                    1920x1200\n",
      "23  2.560 x 1.664 píxeles                    2560x1664\n",
      "50  2.880 x 1.864 píxeles                    2880x1864\n",
      "54  3.456 x 2.234 píxeles                    3456x2234\n",
      "63  2.560 x 1.600 píxeles                    2560x1600\n",
      "74  2.560 x 1.440 píxeles                    2560x1440\n",
      "\n",
      "Value counts for 'pantalla_resolucion_pulgadas':\n",
      "pantalla_resolucion_pulgadas\n",
      "NaN          4729\n",
      "1920x1080    1604\n",
      "1920x1200     537\n",
      "2560x1600     347\n",
      "2880x1800     168\n",
      "2560x1440      78\n",
      "2560x1664      60\n",
      "1366x768       55\n",
      "2880x1864      54\n",
      "1600x900       50\n",
      "Name: count, dtype: int64\n",
      "\n",
      "Data type of 'pantalla_resolucion_pulgadas': object\n",
      "--------------------------------------------------\n"
     ]
    }
   ],
   "source": [
    "df = standardize_resolution_column(df, \n",
    "                                   input_col_name='pantalla_resolucion', \n",
    "                                   output_col_name='pantalla_resolucion_pulgadas', # Overwrites\n",
    "                                   drop_input_col=False) # drop_input_col is ignored if names are same"
   ]
  },
  {
   "cell_type": "markdown",
   "metadata": {},
   "source": [
    "#### \"Pantalla_Densidad de píxeles\""
   ]
  },
  {
   "cell_type": "code",
   "execution_count": 29,
   "metadata": {},
   "outputs": [
    {
     "name": "stdout",
     "output_type": "stream",
     "text": [
      "Processed 'pantalla_densidad_de_pixeles' into 'pantalla_densidad_de_pixeles_ppp'. Sample:\n",
      "    pantalla_densidad_de_pixeles  pantalla_densidad_de_pixeles_ppp\n",
      "2                        254 ppp                             254.0\n",
      "23                       224 ppp                             224.0\n",
      "168                      227 ppp                             227.0\n",
      "205                    165,6 ppp                             165.6\n",
      "405                    100,5 ppp                             100.5\n"
     ]
    }
   ],
   "source": [
    "original_col = 'pantalla_densidad_de_pixeles'\n",
    "new_col = 'pantalla_densidad_de_pixeles_ppp'\n",
    "if original_col in df.columns:\n",
    "    df[new_col] = df[original_col].apply(extract_numerical_value_from_string)\n",
    "    print(f\"Processed '{original_col}' into '{new_col}'. Sample:\")\n",
    "    print(df[[original_col, new_col]].dropna(subset=[original_col]).drop_duplicates().head())\n",
    "else:\n",
    "    print(f\"Column {original_col} not found.\")"
   ]
  },
  {
   "cell_type": "markdown",
   "metadata": {},
   "source": [
    "#### \"Pantalla_Tasa de actualización de imagen\""
   ]
  },
  {
   "cell_type": "code",
   "execution_count": 30,
   "metadata": {},
   "outputs": [
    {
     "name": "stdout",
     "output_type": "stream",
     "text": [
      "Processed 'pantalla_tasa_de_actualizacion_de_imagen' into 'pantalla_tasa_de_actualizacion_de_imagen_hz'. Sample:\n",
      "   pantalla_tasa_de_actualizacion_de_imagen  \\\n",
      "2                                    120 Hz   \n",
      "3                                    144 Hz   \n",
      "4                                     60 Hz   \n",
      "62                                   240 Hz   \n",
      "63                                   165 Hz   \n",
      "\n",
      "    pantalla_tasa_de_actualizacion_de_imagen_hz  \n",
      "2                                         120.0  \n",
      "3                                         144.0  \n",
      "4                                          60.0  \n",
      "62                                        240.0  \n",
      "63                                        165.0  \n"
     ]
    }
   ],
   "source": [
    "original_col = 'pantalla_tasa_de_actualizacion_de_imagen'\n",
    "new_col = 'pantalla_tasa_de_actualizacion_de_imagen_hz'\n",
    "if original_col in df.columns:\n",
    "    df[new_col] = df[original_col].apply(extract_numerical_value_from_string)\n",
    "    print(f\"Processed '{original_col}' into '{new_col}'. Sample:\")\n",
    "    print(df[[original_col, new_col]].dropna(subset=[original_col]).drop_duplicates().head())\n",
    "else:\n",
    "    print(f\"Column {original_col} not found.\")"
   ]
  },
  {
   "cell_type": "markdown",
   "metadata": {},
   "source": [
    "#### \"Procesador_Caché\""
   ]
  },
  {
   "cell_type": "code",
   "execution_count": 31,
   "metadata": {},
   "outputs": [
    {
     "name": "stdout",
     "output_type": "stream",
     "text": [
      "Processed 'procesador_cache' into 'procesador_cache_mb'. Sample:\n",
      "   procesador_cache  procesador_cache_mb\n",
      "3             16 MB                 16.0\n",
      "4             24 MB                 24.0\n",
      "36             4 MB                  4.0\n",
      "38            12 MB                 12.0\n",
      "52            10 MB                 10.0\n"
     ]
    }
   ],
   "source": [
    "original_col = 'procesador_cache'\n",
    "new_col = 'procesador_cache_mb'\n",
    "if original_col in df.columns:\n",
    "    df[new_col] = df[original_col].apply(extract_numerical_value_from_string)\n",
    "    print(f\"Processed '{original_col}' into '{new_col}'. Sample:\")\n",
    "    print(df[[original_col, new_col]].dropna(subset=[original_col]).drop_duplicates().head())\n",
    "else:\n",
    "    print(f\"Column {original_col} not found.\")"
   ]
  },
  {
   "cell_type": "markdown",
   "metadata": {},
   "source": [
    "#### \"RAM_Memoria RAM\""
   ]
  },
  {
   "cell_type": "code",
   "execution_count": 32,
   "metadata": {},
   "outputs": [
    {
     "name": "stdout",
     "output_type": "stream",
     "text": [
      "Processed 'ram_memoria' into 'ram_memoria_gb'. Sample:\n",
      "    ram_memoria  ram_memoria_gb\n",
      "3     16 GB RAM            16.0\n",
      "7     32 GB RAM            32.0\n",
      "36     8 GB RAM             8.0\n",
      "89    24 GB RAM            24.0\n",
      "100   36 GB RAM            36.0\n"
     ]
    }
   ],
   "source": [
    "original_col = 'ram_memoria'\n",
    "new_col = 'ram_memoria_gb'\n",
    "if original_col in df.columns:\n",
    "    df[new_col] = df[original_col].apply(extract_numerical_value_from_string)\n",
    "    print(f\"Processed '{original_col}' into '{new_col}'. Sample:\")\n",
    "    print(df[[original_col, new_col]].dropna(subset=[original_col]).drop_duplicates().head())\n",
    "else:\n",
    "    print(f\"Column {original_col} not found.\")"
   ]
  },
  {
   "cell_type": "markdown",
   "metadata": {},
   "source": [
    "#### \"RAM_Frecuencia de la memoria\""
   ]
  },
  {
   "cell_type": "code",
   "execution_count": 33,
   "metadata": {},
   "outputs": [
    {
     "name": "stdout",
     "output_type": "stream",
     "text": [
      "Processed 'ram_frecuencia_de_la_memoria' into 'ram_frecuencia_de_la_memoria_mhz'. Sample:\n",
      "   ram_frecuencia_de_la_memoria  ram_frecuencia_de_la_memoria_mhz\n",
      "3                     5.600 MHz                            5600.0\n",
      "18                    4.800 MHz                            4800.0\n",
      "26                    6.400 MHz                            6400.0\n",
      "36                    3.200 MHz                            3200.0\n",
      "52                    5.200 MHz                            5200.0\n"
     ]
    }
   ],
   "source": [
    "original_col = 'ram_frecuencia_de_la_memoria'\n",
    "new_col = 'ram_frecuencia_de_la_memoria_mhz'\n",
    "if original_col in df.columns:\n",
    "    df[new_col] = df[original_col].apply(extract_integer_from_string_with_dot_thousands)\n",
    "    print(f\"Processed '{original_col}' into '{new_col}'. Sample:\")\n",
    "    print(df[[original_col, new_col]].dropna(subset=[original_col]).drop_duplicates().head())\n",
    "else:\n",
    "    print(f\"Column {original_col} not found.\")"
   ]
  },
  {
   "cell_type": "markdown",
   "metadata": {},
   "source": [
    "#### \"Disco duro_Capacidad de memoria SSD\""
   ]
  },
  {
   "cell_type": "code",
   "execution_count": 34,
   "metadata": {},
   "outputs": [
    {
     "name": "stdout",
     "output_type": "stream",
     "text": [
      "Processed 'disco_duro_capacidad_de_memoria_ssd' into 'disco_duro_capacidad_de_memoria_ssd_gb'. Sample:\n",
      "    disco_duro_capacidad_de_memoria_ssd  \\\n",
      "3                                512 GB   \n",
      "4                              1.000 GB   \n",
      "23                               256 GB   \n",
      "161                            2.000 GB   \n",
      "188                              128 GB   \n",
      "\n",
      "     disco_duro_capacidad_de_memoria_ssd_gb  \n",
      "3                                     512.0  \n",
      "4                                    1000.0  \n",
      "23                                    256.0  \n",
      "161                                  2000.0  \n",
      "188                                   128.0  \n"
     ]
    }
   ],
   "source": [
    "original_col = 'disco_duro_capacidad_de_memoria_ssd'\n",
    "new_col = 'disco_duro_capacidad_de_memoria_ssd_gb'\n",
    "if original_col in df.columns:\n",
    "    df[new_col] = df[original_col].apply(extract_integer_from_string_with_dot_thousands)\n",
    "    print(f\"Processed '{original_col}' into '{new_col}'. Sample:\")\n",
    "    print(df[[original_col, new_col]].dropna(subset=[original_col]).drop_duplicates().head())\n",
    "else:\n",
    "    print(f\"Column {original_col} not found.\")"
   ]
  },
  {
   "cell_type": "markdown",
   "metadata": {},
   "source": [
    "#### \"Sonido_Potencia de altavoces\""
   ]
  },
  {
   "cell_type": "code",
   "execution_count": 35,
   "metadata": {},
   "outputs": [
    {
     "name": "stdout",
     "output_type": "stream",
     "text": [
      "Processed column 'sonido_potencia_de_altavoces' into 'sonido_potencia_de_altavoces_watts'.\n",
      "\n",
      "Sample of original and new columns:\n",
      "    sonido_potencia_de_altavoces  sonido_potencia_de_altavoces_watts\n",
      "3                        2 x 2 W                                 4.0\n",
      "19                     2 x 1,5 W                                 3.0\n",
      "30               2 x 5 + 2 x 2 W                                 4.0\n",
      "113                      2 x 1 W                                 2.0\n",
      "141                      2 x 5 W                                10.0\n",
      "395                    2 x 2,5 W                                 5.0\n",
      "494                      2 x 4 W                                 8.0\n",
      "532                      4 x 2 W                                 8.0\n",
      "536              2 x 2 + 4 x 2 W                                 8.0\n",
      "657            2 x 5 + 2 x 3,3 W                                 6.6\n",
      "\n",
      "Value counts for 'sonido_potencia_de_altavoces_watts' (top 10):\n",
      "sonido_potencia_de_altavoces_watts\n",
      "NaN     7094\n",
      "4.0      707\n",
      "3.0      136\n",
      "8.0       81\n",
      "2.0       20\n",
      "5.0       15\n",
      "10.0       6\n",
      "6.6        3\n",
      "6.0        2\n",
      "Name: count, dtype: int64\n",
      "\n",
      "Data type of 'sonido_potencia_de_altavoces_watts': float64\n",
      "\n",
      "Original column 'sonido_potencia_de_altavoces' dropped, use 'sonido_potencia_de_altavoces_watts'.\n"
     ]
    }
   ],
   "source": [
    "import pandas as pd\n",
    "import numpy as np\n",
    "import re\n",
    "\n",
    "# Assume 'df' is your DataFrame.\n",
    "# The column \"sonido_potencia de altavoces\" will be cleaned by your clean_col function.\n",
    "# Let's assume it becomes 'sonido_potencia_altavoces'. Please verify this.\n",
    "original_column_name = 'sonido_potencia_de_altavoces' # ADJUST THIS if your cleaned name is different\n",
    "new_column_name = 'sonido_potencia_de_altavoces_watts'\n",
    "\n",
    "def parse_speaker_power(power_str):\n",
    "    \"\"\"\n",
    "    Parses speaker power strings (e.g., \"10W\", \"2x5W\", \"2.5 Watts\") into total Watts.\n",
    "    Returns total power as a float, or np.nan if not parsable.\n",
    "    \"\"\"\n",
    "    if pd.isna(power_str):\n",
    "        return np.nan\n",
    "    \n",
    "    s = str(power_str).lower().strip()\n",
    "    s = s.replace(',', '.') # Standardize decimal point\n",
    "\n",
    "    # Pattern 1: \"A x B W\" or \"A * B W\" (e.g., \"2x5w\", \"2 x 5 w\", \"2 * 5w\")\n",
    "    # Assumes this means A speakers at B watts each, so total A*B.\n",
    "    # Handles optional spaces and different \"watt\" spellings.\n",
    "    # ([\\d\\.]+) captures numbers like \"2\" or \"2.5\".\n",
    "    # [x\\*] matches literal 'x' or '*'.\n",
    "    # (?:w|watt|watts) matches \"w\" or \"watt\" or \"watts\" (non-capturing group).\n",
    "    match_axb = re.search(r'([\\d\\.]+)\\s*[x\\*]\\s*([\\d\\.]+)\\s*(?:w|watt|watts)', s)\n",
    "    if match_axb:\n",
    "        try:\n",
    "            num_speakers = float(match_axb.group(1))\n",
    "            power_per_speaker = float(match_axb.group(2))\n",
    "            return num_speakers * power_per_speaker\n",
    "        except ValueError:\n",
    "            # If conversion fails, fall through to next patterns or return NaN\n",
    "            pass \n",
    "\n",
    "    # Pattern 2: \"C W\" (e.g., \"10w\", \"5.5 w\", \"20 watts\")\n",
    "    # This is tried if the \"A x B W\" pattern doesn't match.\n",
    "    match_c = re.search(r'([\\d\\.]+)\\s*(?:w|watt|watts)', s)\n",
    "    if match_c:\n",
    "        try:\n",
    "            return float(match_c.group(1))\n",
    "        except ValueError:\n",
    "            # If conversion fails, fall through\n",
    "            pass\n",
    "\n",
    "    # If no known pattern matches\n",
    "    return np.nan\n",
    "\n",
    "# Check if the original column exists\n",
    "if original_column_name in df.columns:\n",
    "    # Apply the function to create the new numerical column\n",
    "    df[new_column_name] = df[original_column_name].apply(parse_speaker_power)\n",
    "\n",
    "    print(f\"Processed column '{original_column_name}' into '{new_column_name}'.\")\n",
    "    print(\"\\nSample of original and new columns:\")\n",
    "    \n",
    "    sample_indices = df[original_column_name].notna()\n",
    "    if sample_indices.any():\n",
    "        display_df = df.loc[sample_indices, [original_column_name, new_column_name]].copy()\n",
    "        # Show unique transformations for a better overview\n",
    "        transformed_sample = display_df.drop_duplicates().head(10) \n",
    "        if not transformed_sample.empty:\n",
    "            print(transformed_sample)\n",
    "        else:\n",
    "            print(f\"Could not generate a useful sample from '{original_column_name}' (all parsed to NaN or empty).\")\n",
    "            print(df[[original_column_name, new_column_name]].head())\n",
    "    else:\n",
    "        print(f\"The column '{original_column_name}' seems to contain all NaN values or was empty.\")\n",
    "        print(df[[new_column_name]].head())\n",
    "\n",
    "    print(f\"\\nValue counts for '{new_column_name}' (top 10):\")\n",
    "    print(df[new_column_name].value_counts(dropna=False).head(10))\n",
    "    \n",
    "    print(f\"\\nData type of '{new_column_name}': {df[new_column_name].dtype}\")\n",
    "\n",
    "    # Optional: Drop the original column after verification\n",
    "    df.drop(columns=[original_column_name], inplace=True)\n",
    "    print(f\"\\nOriginal column '{original_column_name}' dropped, use '{new_column_name}'.\")\n",
    "else:\n",
    "    print(f\"Error: Column '{original_column_name}' not found in DataFrame.\")\n",
    "    print(f\"Available columns are: {df.columns.tolist()}\")\n",
    "    print(\"Please ensure 'original_column_name' matches the cleaned name of 'sonido_potencia de altavoces'.\")\n"
   ]
  },
  {
   "cell_type": "markdown",
   "metadata": {},
   "source": [
    "#### \"Procesador_Frecuencia de reloj\""
   ]
  },
  {
   "cell_type": "code",
   "execution_count": 36,
   "metadata": {},
   "outputs": [
    {
     "name": "stdout",
     "output_type": "stream",
     "text": [
      "Processed 'procesador_frecuencia_de_reloj' into 'procesador_frecuencia_de_reloj_ghz'. Sample:\n",
      "   procesador_frecuencia_de_reloj  procesador_frecuencia_de_reloj_ghz\n",
      "4                         1,8 GHz                                 1.8\n",
      "5                         3,8 GHz                                 3.8\n",
      "8                         3,3 GHz                                 3.3\n",
      "25                        3,1 GHz                                 3.1\n",
      "26                          4 GHz                                 4.0\n"
     ]
    }
   ],
   "source": [
    "original_col = 'procesador_frecuencia_de_reloj'\n",
    "new_col = 'procesador_frecuencia_de_reloj_ghz'\n",
    "if original_col in df.columns:\n",
    "    df[new_col] = df[original_col].apply(extract_numerical_value_from_string)\n",
    "    print(f\"Processed '{original_col}' into '{new_col}'. Sample:\")\n",
    "    print(df[[original_col, new_col]].dropna(subset=[original_col]).drop_duplicates().head())\n",
    "else:\n",
    "    print(f\"Column {original_col} not found.\")"
   ]
  },
  {
   "cell_type": "markdown",
   "metadata": {},
   "source": [
    "#### \"Procesador_Frecuencia turbo máx.\""
   ]
  },
  {
   "cell_type": "code",
   "execution_count": 37,
   "metadata": {},
   "outputs": [
    {
     "name": "stdout",
     "output_type": "stream",
     "text": [
      "Processed 'procesador_frecuencia_turbo_max' into 'procesador_frecuencia_turbo_max_ghz'. Sample:\n",
      "   procesador_frecuencia_turbo_max  procesador_frecuencia_turbo_max_ghz\n",
      "4                            5 GHz                                  5.0\n",
      "5                          4,8 GHz                                  4.8\n",
      "7                          5,1 GHz                                  5.1\n",
      "18                         4,9 GHz                                  4.9\n",
      "25                         4,5 GHz                                  4.5\n"
     ]
    }
   ],
   "source": [
    "original_col = 'procesador_frecuencia_turbo_max'\n",
    "new_col = 'procesador_frecuencia_turbo_max_ghz'\n",
    "if original_col in df.columns:\n",
    "    df[new_col] = df[original_col].apply(extract_numerical_value_from_string)\n",
    "    print(f\"Processed '{original_col}' into '{new_col}'. Sample:\")\n",
    "    print(df[[original_col, new_col]].dropna(subset=[original_col]).drop_duplicates().head())\n",
    "else:\n",
    "    print(f\"Column {original_col} not found.\")"
   ]
  },
  {
   "cell_type": "markdown",
   "metadata": {},
   "source": [
    "#### \"Procesador_Potencia máx. de diseño térmico (TDP)\""
   ]
  },
  {
   "cell_type": "code",
   "execution_count": 38,
   "metadata": {},
   "outputs": [
    {
     "name": "stdout",
     "output_type": "stream",
     "text": [
      "Processed 'procesador_potencia_max_de_diseno_termico_tdp' into 'procesador_potencia_maxima_de_diseno_termico_tdp_watts'. Sample:\n",
      "   procesador_potencia_max_de_diseno_termico_tdp  \\\n",
      "4                                           45 W   \n",
      "5                                           28 W   \n",
      "15                                          15 W   \n",
      "22                                          55 W   \n",
      "25                                          54 W   \n",
      "\n",
      "    procesador_potencia_maxima_de_diseno_termico_tdp_watts  \n",
      "4                                                45.0       \n",
      "5                                                28.0       \n",
      "15                                               15.0       \n",
      "22                                               55.0       \n",
      "25                                               54.0       \n"
     ]
    }
   ],
   "source": [
    "original_col = 'procesador_potencia_max_de_diseno_termico_tdp'\n",
    "new_col = 'procesador_potencia_maxima_de_diseno_termico_tdp_watts'\n",
    "if original_col in df.columns:\n",
    "    df[new_col] = df[original_col].apply(extract_numerical_value_from_string)\n",
    "    print(f\"Processed '{original_col}' into '{new_col}'. Sample:\")\n",
    "    print(df[[original_col, new_col]].dropna(subset=[original_col]).drop_duplicates().head())\n",
    "else:\n",
    "    print(f\"Column {original_col} not found.\")"
   ]
  },
  {
   "cell_type": "markdown",
   "metadata": {},
   "source": [
    "#### \"Sistema operativo_Arquitectura bit\""
   ]
  },
  {
   "cell_type": "code",
   "execution_count": 39,
   "metadata": {},
   "outputs": [
    {
     "name": "stdout",
     "output_type": "stream",
     "text": [
      "Processed 'sistema_operativo_arquitectura_bit' into 'sistema_operativo_arquitectura_bit'. Sample:\n",
      "     sistema_operativo_arquitectura_bit  sistema_operativo_arquitectura_bit\n",
      "4                                  64.0                                64.0\n",
      "293                                32.0                                32.0\n"
     ]
    }
   ],
   "source": [
    "original_col = 'sistema_operativo_arquitectura_bit'\n",
    "new_col = 'sistema_operativo_arquitectura_bit'\n",
    "if original_col in df.columns:\n",
    "    df[new_col] = df[original_col].apply(extract_numerical_value_from_string)\n",
    "    print(f\"Processed '{original_col}' into '{new_col}'. Sample:\")\n",
    "    print(df[[original_col, new_col]].dropna(subset=[original_col]).drop_duplicates().head())\n",
    "else:\n",
    "    print(f\"Column {original_col} not found.\")"
   ]
  },
  {
   "cell_type": "markdown",
   "metadata": {},
   "source": [
    "#### \"RAM_Extensión de memoria máxima\""
   ]
  },
  {
   "cell_type": "code",
   "execution_count": 40,
   "metadata": {},
   "outputs": [
    {
     "name": "stdout",
     "output_type": "stream",
     "text": [
      "Processed 'ram_extension_de_memoria_maxima' into 'ram_extension_de_memoria_maxima_gb'. Sample:\n",
      "    ram_extension_de_memoria_maxima  ram_extension_de_memoria_maxima_gb\n",
      "5                             16 GB                                16.0\n",
      "18                            64 GB                                64.0\n",
      "25                            32 GB                                32.0\n",
      "75                            96 GB                                96.0\n",
      "188                            4 GB                                 4.0\n"
     ]
    }
   ],
   "source": [
    "original_col = 'ram_extension_de_memoria_maxima'\n",
    "new_col = 'ram_extension_de_memoria_maxima_gb'\n",
    "if original_col in df.columns:\n",
    "    df[new_col] = df[original_col].apply(extract_numerical_value_from_string)\n",
    "    print(f\"Processed '{original_col}' into '{new_col}'. Sample:\")\n",
    "    print(df[[original_col, new_col]].dropna(subset=[original_col]).drop_duplicates().head())\n",
    "else:\n",
    "    print(f\"Column {original_col} not found.\")"
   ]
  },
  {
   "cell_type": "markdown",
   "metadata": {},
   "source": [
    "#### \"Alimentación_Voltaje de salida\""
   ]
  },
  {
   "cell_type": "code",
   "execution_count": 41,
   "metadata": {},
   "outputs": [
    {
     "name": "stdout",
     "output_type": "stream",
     "text": [
      "Processed 'alimentacion_voltaje_de_salida' into 'alimentacion_voltaje_de_salida_v'. Sample:\n",
      "    alimentacion_voltaje_de_salida  alimentacion_voltaje_de_salida_v\n",
      "5                             20 V                              20.0\n",
      "7                             19 V                              19.0\n",
      "62                          19,5 V                              19.5\n",
      "111                           12 V                              12.0\n",
      "113                         11,4 V                              11.4\n"
     ]
    }
   ],
   "source": [
    "original_col = 'alimentacion_voltaje_de_salida'\n",
    "new_col = 'alimentacion_voltaje_de_salida_v'\n",
    "if original_col in df.columns:\n",
    "    df[new_col] = df[original_col].apply(extract_numerical_value_from_string)\n",
    "    print(f\"Processed '{original_col}' into '{new_col}'. Sample:\")\n",
    "    print(df[[original_col, new_col]].dropna(subset=[original_col]).drop_duplicates().head())\n",
    "else:\n",
    "    print(f\"Column {original_col} not found.\")"
   ]
  },
  {
   "cell_type": "markdown",
   "metadata": {},
   "source": [
    "#### \"Alimentación_Intensidad de corriente\""
   ]
  },
  {
   "cell_type": "code",
   "execution_count": 42,
   "metadata": {},
   "outputs": [
    {
     "name": "stdout",
     "output_type": "stream",
     "text": [
      "Processed 'alimentacion_intensidad_de_corriente' into 'alimentacion_intensidad_de_corriente_a'. Sample:\n",
      "   alimentacion_intensidad_de_corriente  \\\n",
      "5                                3,25 A   \n",
      "6                                  10 A   \n",
      "7                                3,42 A   \n",
      "14                               9,23 A   \n",
      "27                                4,5 A   \n",
      "\n",
      "    alimentacion_intensidad_de_corriente_a  \n",
      "5                                     3.25  \n",
      "6                                    10.00  \n",
      "7                                     3.42  \n",
      "14                                    9.23  \n",
      "27                                    4.50  \n"
     ]
    }
   ],
   "source": [
    "original_col = 'alimentacion_intensidad_de_corriente'\n",
    "new_col = 'alimentacion_intensidad_de_corriente_a'\n",
    "if original_col in df.columns:\n",
    "    df[new_col] = df[original_col].apply(extract_numerical_value_from_string)\n",
    "    print(f\"Processed '{original_col}' into '{new_col}'. Sample:\")\n",
    "    print(df[[original_col, new_col]].dropna(subset=[original_col]).drop_duplicates().head())\n",
    "else:\n",
    "    print(f\"Column {original_col} not found.\")"
   ]
  },
  {
   "cell_type": "markdown",
   "metadata": {},
   "source": [
    "#### \"Alimentación_Capacidad de la batería\""
   ]
  },
  {
   "cell_type": "code",
   "execution_count": 43,
   "metadata": {},
   "outputs": [
    {
     "name": "stdout",
     "output_type": "stream",
     "text": [
      "Processed 'alimentacion_capacidad_de_la_bateria' into 'alimentacion_capacidad_de_la_bateria_ah'. Sample:\n",
      "    alimentacion_capacidad_de_la_bateria  \\\n",
      "20                              9360 mAh   \n",
      "111                             5000 mAh   \n",
      "378                             4100 mAh   \n",
      "409                             3200 mAh   \n",
      "424                             3460 mAh   \n",
      "\n",
      "     alimentacion_capacidad_de_la_bateria_ah  \n",
      "20                                    9360.0  \n",
      "111                                   5000.0  \n",
      "378                                   4100.0  \n",
      "409                                   3200.0  \n",
      "424                                   3460.0  \n"
     ]
    }
   ],
   "source": [
    "original_col = 'alimentacion_capacidad_de_la_bateria'\n",
    "new_col = 'alimentacion_capacidad_de_la_bateria_ah'\n",
    "if original_col in df.columns:\n",
    "    df[new_col] = df[original_col].apply(extract_numerical_value_from_string)\n",
    "    print(f\"Processed '{original_col}' into '{new_col}'. Sample:\")\n",
    "    print(df[[original_col, new_col]].dropna(subset=[original_col]).drop_duplicates().head())\n",
    "else:\n",
    "    print(f\"Column {original_col} not found.\")"
   ]
  },
  {
   "cell_type": "markdown",
   "metadata": {},
   "source": [
    "#### \"Alimentación_Intensidad de corriente\""
   ]
  },
  {
   "cell_type": "code",
   "execution_count": 44,
   "metadata": {},
   "outputs": [
    {
     "name": "stdout",
     "output_type": "stream",
     "text": [
      "Processed 'alimentacion_intensidad_de_corriente' into 'alimentacion_intensidad_de_corriente_a'. Sample:\n",
      "   alimentacion_intensidad_de_corriente  \\\n",
      "5                                3,25 A   \n",
      "6                                  10 A   \n",
      "7                                3,42 A   \n",
      "14                               9,23 A   \n",
      "27                                4,5 A   \n",
      "\n",
      "    alimentacion_intensidad_de_corriente_a  \n",
      "5                                     3.25  \n",
      "6                                    10.00  \n",
      "7                                     3.42  \n",
      "14                                    9.23  \n",
      "27                                    4.50  \n"
     ]
    }
   ],
   "source": [
    "original_col = 'alimentacion_intensidad_de_corriente'\n",
    "new_col = 'alimentacion_intensidad_de_corriente_a'\n",
    "if original_col in df.columns:\n",
    "    df[new_col] = df[original_col].apply(extract_numerical_value_from_string)\n",
    "    print(f\"Processed '{original_col}' into '{new_col}'. Sample:\")\n",
    "    print(df[[original_col, new_col]].dropna(subset=[original_col]).drop_duplicates().head())\n",
    "else:\n",
    "    print(f\"Column {original_col} not found.\")"
   ]
  },
  {
   "cell_type": "markdown",
   "metadata": {},
   "source": [
    "#### \"Disco duro_Capacidad del disco duro\""
   ]
  },
  {
   "cell_type": "code",
   "execution_count": 45,
   "metadata": {},
   "outputs": [
    {
     "name": "stdout",
     "output_type": "stream",
     "text": [
      "Processed 'disco_duro_capacidad_del_disco_duro' into 'disco_duro_capacidad_del_disco_duro_gb'. Sample:\n",
      "     disco_duro_capacidad_del_disco_duro  \\\n",
      "168                               256 GB   \n",
      "434                             1.000 GB   \n",
      "877                                 1 GB   \n",
      "907                               128 GB   \n",
      "1614                               64 GB   \n",
      "\n",
      "      disco_duro_capacidad_del_disco_duro_gb  \n",
      "168                                    256.0  \n",
      "434                                   1000.0  \n",
      "877                                      1.0  \n",
      "907                                    128.0  \n",
      "1614                                    64.0  \n"
     ]
    }
   ],
   "source": [
    "original_col = 'disco_duro_capacidad_del_disco_duro'\n",
    "new_col = 'disco_duro_capacidad_del_disco_duro_gb'\n",
    "if original_col in df.columns:\n",
    "    df[new_col] = df[original_col].apply(extract_integer_from_string_with_dot_thousands)\n",
    "    print(f\"Processed '{original_col}' into '{new_col}'. Sample:\")\n",
    "    print(df[[original_col, new_col]].dropna(subset=[original_col]).drop_duplicates().head())\n",
    "else:\n",
    "    print(f\"Column {original_col} not found.\")"
   ]
  },
  {
   "cell_type": "markdown",
   "metadata": {},
   "source": [
    "#### \"Disco duro_Velocidad de rotación del disco duro\""
   ]
  },
  {
   "cell_type": "code",
   "execution_count": 46,
   "metadata": {},
   "outputs": [
    {
     "name": "stdout",
     "output_type": "stream",
     "text": [
      "Processed 'disco_duro_velocidad_de_rotacion_del_disco_duro' into 'disco_duro_velocidad_de_rotacion_del_disco_duro_rpm'. Sample:\n",
      "     disco_duro_velocidad_de_rotacion_del_disco_duro  \\\n",
      "405                                        5.400 rpm   \n",
      "2315                                       7.200 rpm   \n",
      "\n",
      "      disco_duro_velocidad_de_rotacion_del_disco_duro_rpm  \n",
      "405                                              5400.0    \n",
      "2315                                             7200.0    \n"
     ]
    }
   ],
   "source": [
    "original_col = 'disco_duro_velocidad_de_rotacion_del_disco_duro'\n",
    "new_col = 'disco_duro_velocidad_de_rotacion_del_disco_duro_rpm'\n",
    "if original_col in df.columns:\n",
    "    df[new_col] = df[original_col].apply(extract_integer_from_string_with_dot_thousands)\n",
    "    print(f\"Processed '{original_col}' into '{new_col}'. Sample:\")\n",
    "    print(df[[original_col, new_col]].dropna(subset=[original_col]).drop_duplicates().head())\n",
    "else:\n",
    "    print(f\"Column {original_col} not found.\")"
   ]
  },
  {
   "cell_type": "markdown",
   "metadata": {},
   "source": [
    "#### \"Medidas y peso_Alto\""
   ]
  },
  {
   "cell_type": "code",
   "execution_count": 47,
   "metadata": {},
   "outputs": [
    {
     "name": "stdout",
     "output_type": "stream",
     "text": [
      "Processed 'medidas_y_peso_alto' into 'medidas_y_peso_alto_cm'. Sample:\n",
      "     medidas_y_peso_alto  medidas_y_peso_alto_cm\n",
      "4032                5 cm                     5.0\n",
      "4035             49,2 cm                    49.0\n",
      "4042              5,4 cm                     5.0\n",
      "4043             33,7 cm                    33.0\n",
      "4047              3,6 cm                     3.0\n"
     ]
    }
   ],
   "source": [
    "original_col = 'medidas_y_peso_alto'\n",
    "new_col = 'medidas_y_peso_alto_cm'\n",
    "if original_col in df.columns:\n",
    "    df[new_col] = df[original_col].apply(extract_integer_from_string_with_dot_thousands)\n",
    "    print(f\"Processed '{original_col}' into '{new_col}'. Sample:\")\n",
    "    print(df[[original_col, new_col]].dropna(subset=[original_col]).drop_duplicates().head())\n",
    "else:\n",
    "    print(f\"Column {original_col} not found.\")"
   ]
  },
  {
   "cell_type": "markdown",
   "metadata": {},
   "source": [
    "#### \"Procesador_Frecuencia del reloj\""
   ]
  },
  {
   "cell_type": "code",
   "execution_count": 48,
   "metadata": {},
   "outputs": [
    {
     "name": "stdout",
     "output_type": "stream",
     "text": [
      "Processed 'procesador_frecuencia_del_reloj' into 'procesador_frecuencia_del_reloj_ghz'. Sample:\n",
      "     procesador_frecuencia_del_reloj  procesador_frecuencia_del_reloj_ghz\n",
      "4034                         3,9 GHz                                  3.9\n",
      "4035                         2,5 GHz                                  2.5\n",
      "4037                         2,1 GHz                                  2.1\n",
      "4038                         3,2 GHz                                  3.2\n",
      "4044                         3,1 GHz                                  3.1\n"
     ]
    }
   ],
   "source": [
    "original_col = 'procesador_frecuencia_del_reloj'\n",
    "new_col = 'procesador_frecuencia_del_reloj_ghz'\n",
    "if original_col in df.columns:\n",
    "    df[new_col] = df[original_col].apply(extract_numerical_value_from_string)\n",
    "    print(f\"Processed '{original_col}' into '{new_col}'. Sample:\")\n",
    "    print(df[[original_col, new_col]].dropna(subset=[original_col]).drop_duplicates().head())\n",
    "else:\n",
    "    print(f\"Column {original_col} not found.\")"
   ]
  },
  {
   "cell_type": "markdown",
   "metadata": {},
   "source": [
    "#### \"Procesador_TDP\""
   ]
  },
  {
   "cell_type": "code",
   "execution_count": 49,
   "metadata": {},
   "outputs": [
    {
     "name": "stdout",
     "output_type": "stream",
     "text": [
      "Processed 'procesador_tdp' into 'procesador_tdp_watts'. Sample:\n",
      "     procesador_tdp  procesador_tdp_watts\n",
      "4034           65 W                  65.0\n",
      "4038          125 W                 125.0\n",
      "4048            6 W                   6.0\n",
      "4083           45 W                  45.0\n",
      "4089           15 W                  15.0\n"
     ]
    }
   ],
   "source": [
    "original_col = 'procesador_tdp'\n",
    "new_col = 'procesador_tdp_watts'\n",
    "if original_col in df.columns:\n",
    "    df[new_col] = df[original_col].apply(extract_numerical_value_from_string)\n",
    "    print(f\"Processed '{original_col}' into '{new_col}'. Sample:\")\n",
    "    print(df[[original_col, new_col]].dropna(subset=[original_col]).drop_duplicates().head())\n",
    "else:\n",
    "    print(f\"Column {original_col} not found.\")"
   ]
  },
  {
   "cell_type": "markdown",
   "metadata": {},
   "source": [
    "## Feature Engineering"
   ]
  },
  {
   "cell_type": "markdown",
   "metadata": {},
   "source": [
    "Handeling missing Values "
   ]
  },
  {
   "cell_type": "markdown",
   "metadata": {},
   "source": [
    "The dataset is more presentable now, in terms column names, row values (they dont contain the units, numerical values are fixed to have the correct float form). Looking at the data now, there are so many missing values. "
   ]
  },
  {
   "cell_type": "code",
   "execution_count": 74,
   "metadata": {},
   "outputs": [
    {
     "name": "stdout",
     "output_type": "stream",
     "text": [
      "The number of columns in the dataset is: 163\n"
     ]
    }
   ],
   "source": [
    "num_columns = df.shape[1]\n",
    "print(f\"The number of columns in the dataset is: {num_columns}\")"
   ]
  },
  {
   "cell_type": "code",
   "execution_count": 77,
   "metadata": {},
   "outputs": [
    {
     "data": {
      "text/plain": [
       "Index(['titulo', 'ofertas', 'tipo_de_producto', 'serie',\n",
       "       'pantalla_tamano_pulgadas', 'pantalla_diagonal_cm',\n",
       "       'pantalla_tecnologia', 'pantalla_luminosidad_cd_m2', 'procesador',\n",
       "       'disco_duro_tipo_de_disco_duro',\n",
       "       ...\n",
       "       'procesador_potencia_maxima_de_diseno_termico_tdp_watts',\n",
       "       'ram_extension_de_memoria_maxima_gb',\n",
       "       'alimentacion_voltaje_de_salida_v',\n",
       "       'alimentacion_intensidad_de_corriente_a',\n",
       "       'alimentacion_capacidad_de_la_bateria_ah',\n",
       "       'disco_duro_capacidad_del_disco_duro_gb',\n",
       "       'disco_duro_velocidad_de_rotacion_del_disco_duro_rpm',\n",
       "       'medidas_y_peso_alto_cm', 'procesador_frecuencia_del_reloj_ghz',\n",
       "       'procesador_tdp_watts'],\n",
       "      dtype='object', length=163)"
      ]
     },
     "execution_count": 77,
     "metadata": {},
     "output_type": "execute_result"
    }
   ],
   "source": [
    "df.columns"
   ]
  },
  {
   "cell_type": "code",
   "execution_count": 50,
   "metadata": {},
   "outputs": [
    {
     "name": "stdout",
     "output_type": "stream",
     "text": [
      "almacenamiento_velocidades_de_escritura    99.975198\n",
      "almacenamiento_velocidades_de_lectura      99.975198\n",
      "sistema_operativo_software_incluido        99.925595\n",
      "procesador_procesadores_compatibles        99.925595\n",
      "otras_caracteristicas_certificado_rohs     99.913194\n",
      "                                             ...    \n",
      "precio_mean                                 1.698909\n",
      "precio_max                                  1.698909\n",
      "precio_min                                  1.698909\n",
      "tipo                                        0.000000\n",
      "titulo                                      0.000000\n",
      "Length: 163, dtype: float64\n"
     ]
    }
   ],
   "source": [
    "#Quanitifying missingness\n",
    "# Fraction missing in each column, sorted descending\n",
    "missing_frac = df.isna().mean().sort_values(ascending=False)\n",
    "missing_pct = missing_frac * 100\n",
    "print(missing_pct)\n",
    "\n"
   ]
  },
  {
   "cell_type": "code",
   "execution_count": 69,
   "metadata": {},
   "outputs": [
    {
     "name": "stdout",
     "output_type": "stream",
     "text": [
      "Index([], dtype='object')\n"
     ]
    }
   ],
   "source": [
    "#check if there are any empty columns\n",
    "empty_cols = df.columns[df.isna().all()]\n",
    "print(empty_cols)"
   ]
  },
  {
   "cell_type": "markdown",
   "metadata": {},
   "source": [
    "we have 163 columns of which 161 columns have missing values, and no column have completely missing values. percetnages of missing values ranging from 99.97% to a very little irrelevant portion like 1.6%. this suggest that:\n",
    "- some data is missing completely at random \n",
    "- some might be missing at random\n",
    "- some data is not missing at random\n",
    "we have to diagmnose where and why values are missing for before choosing how to handel the missing values."
   ]
  },
  {
   "cell_type": "markdown",
   "metadata": {},
   "source": [
    "Visualizing missing values "
   ]
  },
  {
   "cell_type": "code",
   "execution_count": 75,
   "metadata": {},
   "outputs": [
    {
     "data": {
      "text/plain": [
       "<Figure size 1200x800 with 0 Axes>"
      ]
     },
     "metadata": {},
     "output_type": "display_data"
    },
    {
     "data": {
      "image/png": "[encoded data removed]",
      "text/plain": [
       "<Figure size 2000x1200 with 2 Axes>"
      ]
     },
     "metadata": {},
     "output_type": "display_data"
    }
   ],
   "source": [
    "import pandas as pd\n",
    "import matplotlib.pyplot as plt\n",
    "import missingno as msno\n",
    "\n",
    "# Compute missing-value fraction and pick top 30\n",
    "miss_frac = df.isnull().mean().sort_values(ascending=False)\n",
    "top50 = miss_frac.head(30).index.tolist()\n",
    "\n",
    "# Heatmap of just those top 300\n",
    "plt.figure(figsize=(12, 8))\n",
    "msno.heatmap(\n",
    "    df[top50],\n",
    "    cmap='viridis',\n",
    "    fontsize=10      # shrink the font for readability\n",
    ")\n",
    "plt.title(\"Heatmap of Missingness Correlation (Top 50 Columns)\")\n",
    "plt.show()"
   ]
  },
  {
   "cell_type": "markdown",
   "metadata": {},
   "source": [
    "Rule of thumb \n",
    "- most of the correlations are almost zero, suggestung that chance of being missing is independent of every other column’s missingness → consistent with MCAR\n",
    "- correlation with 0.2-0.5 values we can say that we possibly have MAR variables \n",
    "-we have high co--missingness with correlation of 1 between:\n",
    "we are conducting MCAR tests and checking for MAR in the next step"
   ]
  },
  {
   "cell_type": "code",
   "execution_count": 95,
   "metadata": {},
   "outputs": [],
   "source": [
    "#missing at random vs missing completely at random\n",
    "\n",
    "# Little's MCAR test\n",
    "\n"
   ]
  },
  {
   "cell_type": "code",
   "execution_count": 79,
   "metadata": {},
   "outputs": [
    {
     "data": {
      "image/png": "[encoded data removed]",
      "text/plain": [
       "<Figure size 1000x600 with 1 Axes>"
      ]
     },
     "metadata": {},
     "output_type": "display_data"
    }
   ],
   "source": [
    "# Dendrogram clustering of missingness patterns \n",
    "import numpy as np\n",
    "import pandas as pd\n",
    "import matplotlib.pyplot as plt\n",
    "from scipy.spatial.distance import pdist\n",
    "from scipy.cluster.hierarchy import linkage, dendrogram\n",
    "\n",
    "# 1) Compute missing‐value fraction per column\n",
    "miss_frac = df.isnull().mean().sort_values(ascending=False)\n",
    "\n",
    "# 2) Select top N columns \n",
    "top_cols = miss_frac.head(50).index\n",
    "null_matrix = df[top_cols].isnull().T.astype(int)\n",
    "\n",
    "# 3) Compute linkage\n",
    "distances = pdist(null_matrix, metric='euclidean')\n",
    "Z = linkage(distances, method='ward')\n",
    "\n",
    "# 4) Plot dendrogram of only those top columns\n",
    "plt.figure(figsize=(10, 6))\n",
    "dendrogram(\n",
    "    Z,\n",
    "    labels=top_cols.tolist(),\n",
    "    leaf_rotation=90,     # rotate labels to vertical\n",
    "    leaf_font_size=10,    # smaller font\n",
    "    color_threshold=1.0   # draws clusters in different colors\n",
    ")\n",
    "plt.title(\"Dendrogram of Top 20 Missingness Patterns\")\n",
    "plt.tight_layout()\n",
    "plt.show()\n"
   ]
  },
  {
   "cell_type": "markdown",
   "metadata": {},
   "source": [
    "This plot is a dendrogram of the 20 features that have the most missing values. It’s clustering the missingness vectors of each feature: for every pair of features, we look at which rows are missing in A vs. B, compute a distance (Euclidean) between those two binary “is-missing” patterns, and then do hierarchical clustering.\n",
    "A small height at which two leaves merge means those two features are frequently missing in exactly the same rows.\n",
    "A large height means their missingness patterns hardly overlap.\n",
    "results suggest:\n",
    "- misisng values will be treated as groups based on the product type. pantalla_.. , alimentancion_bateria_intercambiable, disco_duro_... and more are not random blanks, they reflect that theyre just not aplicable for a certain types of products\n",
    "- some variables are very high up: pantalla_propiedades, and procesador on the dendogram suggesting a unique missingness patterns, however theyre from the top 20 missing values. so they have to be inspected further to decide how to deal with them "
   ]
  },
  {
   "cell_type": "markdown",
   "metadata": {},
   "source": [
    "confirming is missigness is grouped based on product type "
   ]
  },
  {
   "cell_type": "markdown",
   "metadata": {},
   "source": [
    "Inspecting pantalla_propiedades and procesador missing trends for pantalla_propiedades and procesador"
   ]
  },
  {
   "cell_type": "code",
   "execution_count": 85,
   "metadata": {},
   "outputs": [
    {
     "name": "stdout",
     "output_type": "stream",
     "text": [
      "Percentage of missing values in 'procesador': 13.802083333333334%\n"
     ]
    },
    {
     "data": {
      "text/plain": [
       "procesador\n",
       "NaN                        1113\n",
       "Intel Core Ultra 7 155H     192\n",
       "Intel Core i5-1235U         165\n",
       "Intel Core i5-1335U         141\n",
       "Intel Core i7-1355U         134\n",
       "Intel Core i5-10400         133\n",
       "Intel Core i7-11700F        120\n",
       "AMD Ryzen 5 4500            120\n",
       "Intel Core i7-13700         105\n",
       "Intel Core i7-13700F        105\n",
       "Name: count, dtype: int64"
      ]
     },
     "execution_count": 85,
     "metadata": {},
     "output_type": "execute_result"
    }
   ],
   "source": [
    "#procesador\n",
    "# Calculate the percentage of missing \n",
    "print(f\"Percentage of missing values in 'procesador': {missing_pct_procesador}%\")\n",
    "#inspecting missing trends\n",
    "df['procesador'].value_counts(dropna=False).head(10)\n"
   ]
  },
  {
   "cell_type": "code",
   "execution_count": 84,
   "metadata": {},
   "outputs": [
    {
     "name": "stdout",
     "output_type": "stream",
     "text": [
      "Percentage of missing values in 'pantalla_propiedades': 95.99454365079364%\n"
     ]
    },
    {
     "data": {
      "text/plain": [
       "pantalla_propiedades\n",
       "NaN                                                  7741\n",
       "convertible                                           212\n",
       "multitáctil de 10 puntos                               27\n",
       "capacitiva                                             21\n",
       "convertible, capacitiva                                16\n",
       "capacitiva, multitáctil de 10 puntos                   14\n",
       "convertible, capacitiva, multitáctil de 10 puntos       8\n",
       "multitáctil de 10 puntos, antiarañazos                  4\n",
       "ajustable en altura                                     3\n",
       "convertible, multitáctil de 10 puntos                   3\n",
       "Name: count, dtype: int64"
      ]
     },
     "execution_count": 84,
     "metadata": {},
     "output_type": "execute_result"
    }
   ],
   "source": [
    "#pantalla_propiedades\n",
    "# Calculate the percentage of missing \n",
    "print(f\"Percentage of missing values in 'pantalla_propiedades': {missing_pct_pantalla_propiedades}%\")\n",
    "\n",
    "df['pantalla_propiedades'].value_counts(dropna=False).head(10)"
   ]
  },
  {
   "cell_type": "code",
   "execution_count": 76,
   "metadata": {},
   "outputs": [
    {
     "name": "stdout",
     "output_type": "stream",
     "text": [
      "                             titulo  ofertas     tipo_de_producto              serie  pantalla_tamano_pulgadas  pantalla_diagonal_cm pantalla_tecnologia  pantalla_luminosidad_cd_m2            procesador disco_duro_tipo grafica_salida_de_video grafica_resolucion_externa conectividad_lector_de_tarjetas comunicaciones_conectividad comunicaciones_version_bluetooth   camara_webcam     camara_funcion    camara_resolucion         teclado_tipo  teclado_numero_de_teclas              teclado_teclas_adicionales  sonido_numero_de_altavoces alimentacion_bateria alimentacion_autonomia_de_la_bateria  alimentacion_vatios_hora alimentacion alimentacion_bateria_intercambiable medidas_y_peso_material_de_la_carcasa medidas_y_peso_diseno medidas_y_peso_profundidad medidas_y_peso_altura medidas_y_peso_ancho medidas_y_peso_peso                 otras_caracteristicas_equipamiento          otras_caracteristicas_seguridad_integrada otras_caracteristicas_sensor  otras_caracteristicas_fecha_de_lanzamiento  \\\n",
      "0     Apple MacBook Air 13\" 2024 M3    200.0  Portátil multimedia  Apple MacBook Air                      13.6                34.544              Retina                       500.0              Apple M3             SSD           Thunderbolt 4           6K (6016 x 3384)                         ninguno             wifi, Bluetooth                    Bluetooth 5.3       integrada  compatible con HD  1920 x 1080 píxeles  teclado tipo chicle                      79.0  teclas de función, teclas de dirección                         4.0    polímero de litio                                 15 h                      52.6         30 W                                  no                              aluminio              con tapa                    21,5 cm                 11 mm              30,4 cm             1,24 kg  micrófono integrado, USB-C, Touchpad multitáct...                        lector de huellas digitales        sensor de luminosidad                                      2024.0   \n",
      "1     Apple MacBook Air 15\" 2024 M3    230.0  Portátil multimedia  Apple MacBook Air                      15.3                38.862              Retina                       500.0              Apple M3             SSD           Thunderbolt 4           6K (6016 x 3384)                         ninguno             wifi, Bluetooth                    Bluetooth 5.3       integrada  compatible con HD  1920 x 1080 píxeles  teclado tipo chicle                      79.0  teclas de función, teclas de dirección                         6.0    polímero de litio                                 15 h                      66.5         35 W                                  no                              aluminio              con tapa                    23,8 cm                 12 mm                34 cm             1,51 kg  micrófono integrado, USB-C, Touchpad multitáct...                        lector de huellas digitales        sensor de luminosidad                                      2024.0   \n",
      "2   Apple MacBook Pro 14\" M4 (2024)    136.0  Portátil multimedia  Apple MacBook Pro                      14.2                36.068              Retina                         1.0                   NaN             SSD                     NaN           8K (8192 x 4608)                       integrado             Bluetooth, wifi                    Bluetooth 5.3  12.0 Megapixel  compatible con HD  1920 x 1080 píxeles                  NaN                      79.0                                     NaN                         6.0    polímero de litio                                 13 h                      70.0         67 W                                  no                              aluminio              con tapa                    22,1 cm                 16 mm              31,3 cm              1,6 kg  USB-C, altavoces estéreo, Touch ID, lector de ...                        lector de huellas digitales        sensor de luminosidad                                      2024.0   \n",
      "3  ASUS TUF Gaming A15 FA506 (2024)     30.0      Portátil gaming    ASUS TUF Gaming                      15.6                39.624             Full HD                         NaN                   NaN             SSD                     NaN           4K (4096 x 2304)                             NaN        LAN, Bluetooth, wifi                    Bluetooth 5.2       integrada  compatible con HD                  NaN  teclado tipo chicle                       NaN                                     NaN                         2.0            ión-litio                                  NaN                      48.0          NaN                                 NaN                                   NaN              con tapa                    25,6 cm                 23 mm              35,9 cm              2,3 kg  altavoces estéreo, micrófono integrado, USB-C,...  contraseña BIOS, contraseña de usuario, bloque...                          NaN                                      2024.0   \n",
      "4         GigaByte Aero 16 OLED BKF     29.0      Portátil gaming      Gigabyte Aero                      16.0                40.640                UHD+                       600.0  Intel Core i7-13700H             SSD                     NaN                        NaN                       integrado             wifi, Bluetooth                    Bluetooth 5.2       integrada  compatible con HD  1920 x 1080 píxeles        teclado gamer                       NaN                                     NaN                         2.0    polímero de litio                                  NaN                      88.0        240 W                                 NaN                                   NaN              con tapa                    25,5 cm                 22 mm              35,4 cm              1,9 kg  USB-C, altavoces estéreo, lector de tarjetas, ...                           reconocimiento de rostro                          NaN                                      2023.0   \n",
      "\n",
      "  comunicaciones_estandar_wifi    pantalla_resolucion pantalla_densidad_de_pixeles pantalla_tasa_de_actualizacion_de_imagen procesador_fabricante procesador_tipo  disco_duro_numero_de_discos_duros_instalados grafica_fabricante_tarjeta     grafica_memoria sistema_operativo conectividad_tipo_de_tarjetas_compatibles sonido_sistema_de_altavoces pantalla_formato_de_imagen procesador_nombre_clave procesador_nivel_de_cache procesador_cache ram_memoria ram_tipo ram_frecuencia_de_la_memoria disco_duro_capacidad_de_memoria_ssd teclado_caracteristica  alimentacion_numero_de_celdas medidas_y_peso_color otras_caracteristicas_portatil_configurable procesador_numero_nucleos procesador_frecuencia_de_reloj procesador_frecuencia_turbo_max procesador_potencia_max_de_diseno_termico_tdp grafica_tipo_memoria  sistema_operativo_arquitectura_bit pantalla_tiempo_de_reaccion ram_extension_de_memoria_maxima grafica_tarjeta comunicaciones_transmision_de_datos almacenamiento_lector_optico  \\\n",
      "0                          NaN                    NaN                          NaN                                      NaN                   NaN             NaN                                           NaN                        NaN                 NaN               NaN                                       NaN                         NaN                        NaN                     NaN                       NaN              NaN         NaN      NaN                          NaN                                 NaN                    NaN                            NaN                  NaN                                         NaN                       NaN                            NaN                             NaN                                           NaN                  NaN                                 NaN                         NaN                             NaN             NaN                                 NaN                          NaN   \n",
      "1                IEEE 802.11ax                    NaN                          NaN                                      NaN                   NaN             NaN                                           NaN                        NaN                 NaN               NaN                                       NaN                         NaN                        NaN                     NaN                       NaN              NaN         NaN      NaN                          NaN                                 NaN                    NaN                            NaN                  NaN                                         NaN                       NaN                            NaN                             NaN                                           NaN                  NaN                                 NaN                         NaN                             NaN             NaN                                 NaN                          NaN   \n",
      "2                IEEE 802.11ax  3.024 x 1.964 píxeles                      254 ppp                                   120 Hz                 Apple         Apple M                                           1.0                      Apple  memoria compartida     macOS Sequoia                                      SDXC           altavoces estéreo                        NaN                     NaN                       NaN              NaN         NaN      NaN                          NaN                                 NaN                    NaN                            NaN                  NaN                                         NaN                       NaN                            NaN                             NaN                                           NaN                  NaN                                 NaN                         NaN                             NaN             NaN                                 NaN                          NaN   \n",
      "3                IEEE 802.11ax  1.920 x 1.080 píxeles                          NaN                                   144 Hz                   NaN             NaN                                           1.0                        NaN                 NaN               NaN                                       NaN                         NaN                       16:9             Rembrandt-R                        L3            16 MB   16 GB RAM     DDR5                    5.600 MHz                              512 GB      teclado iluminado                            3.0                negro                                          sí                       NaN                            NaN                             NaN                                           NaN                  NaN                                 NaN                         NaN                             NaN             NaN                                 NaN                          NaN   \n",
      "4                IEEE 802.11ax                    NaN                          NaN                                    60 Hz                 Intel   Intel Core i7                                           1.0                     NVIDIA     8.192 MB / 8 GB   Windows 11 Home                                   MicroSD                         NaN                      16:10           Raptor Lake-H                        L3            24 MB   16 GB RAM     DDR5                          NaN                            1.000 GB                    NaN                            NaN                  NaN                                         NaN                      14.0                        1,8 GHz                           5 GHz                                          45 W                GDDR6                                64.0                         NaN                             NaN             NaN                                 NaN                          NaN   \n",
      "\n",
      "  alimentacion_voltaje_de_salida alimentacion_intensidad_de_corriente otras_caracteristicas_caracteristicas_especiales pantalla comunicaciones_estandar_lan sonido_modo alimentacion_capacidad_de_la_bateria otras_caracteristicas_certificacion ia_caracteristica  ram_numero_ranuras_memoria ram_ranura_memoria ram_configuracion_memoria procesador_chipset otras_caracteristicas_software_incluido pantalla_displayglas grafica_gpu pantalla_propiedades ia_funcion ia_procesador sonido_chip disco_duro_capacidad otras_caracteristicas_localizacion conectividad_conexion otras_caracteristicas_expansion_de_hardware otras_caracteristicas_articulo_incluido otras_caracteristicas_caracteristicas_de_la_carcasa otras_caracteristicas_certificado disco_duro_velocidad_rotacion comunicaciones_caracteristicas_del_bluetooth almacenamiento_velocidades_de_lectura almacenamiento_velocidades_de_escritura grafica_caracteristica_tarjeta    tipo conectividad_conexion_frontal propiedades_de_la_carcasa_tipo_de_caja  \\\n",
      "0                            NaN                                  NaN                                              NaN      NaN                         NaN         NaN                                  NaN                                 NaN               NaN                         NaN                NaN                       NaN                NaN                                     NaN                  NaN         NaN                  NaN        NaN           NaN         NaN                  NaN                                NaN                   NaN                                         NaN                                     NaN                                                NaN                                NaN                           NaN                                          NaN                                   NaN                                     NaN                            NaN  Laptop                           NaN                                    NaN   \n",
      "1                            NaN                                  NaN                                              NaN      NaN                         NaN         NaN                                  NaN                                 NaN               NaN                         NaN                NaN                       NaN                NaN                                     NaN                  NaN         NaN                  NaN        NaN           NaN         NaN                  NaN                                NaN                   NaN                                         NaN                                     NaN                                                NaN                                NaN                           NaN                                          NaN                                   NaN                                     NaN                            NaN  Laptop                           NaN                                    NaN   \n",
      "2                            NaN                                  NaN                                              NaN      NaN                         NaN         NaN                                  NaN                                 NaN               NaN                         NaN                NaN                       NaN                NaN                                     NaN                  NaN         NaN                  NaN        NaN           NaN         NaN                  NaN                                NaN                   NaN                                         NaN                                     NaN                                                NaN                                NaN                           NaN                                          NaN                                   NaN                                     NaN                            NaN  Laptop                           NaN                                    NaN   \n",
      "3                            NaN                                  NaN                                              NaN      NaN                         NaN         NaN                                  NaN                                 NaN               NaN                         NaN                NaN                       NaN                NaN                                     NaN                  NaN         NaN                  NaN        NaN           NaN         NaN                  NaN                                NaN                   NaN                                         NaN                                     NaN                                                NaN                                NaN                           NaN                                          NaN                                   NaN                                     NaN                            NaN  Laptop                           NaN                                    NaN   \n",
      "4                            NaN                                  NaN                                              NaN      NaN                         NaN         NaN                                  NaN                                 NaN               NaN                         NaN                NaN                       NaN                NaN                                     NaN                  NaN         NaN                  NaN        NaN           NaN         NaN                  NaN                                NaN                   NaN                                         NaN                                     NaN                                                NaN                                NaN                           NaN                                          NaN                                   NaN                                     NaN                            NaN  Laptop                           NaN                                    NaN   \n",
      "\n",
      "  propiedades_de_la_carcasa_color medidas_y_peso_alto propiedades_de_la_carcasa_material_de_la_carcasa propiedades_de_la_carcasa_alimentacion adecuado_para procesador_frecuencia_del_reloj procesador_zocalo_de_cpu  procesador_numero_de_hilos_de_ejecucion procesador_tdp procesador_chipset_de_la_placa_base  ram_numero_ranuras_memoria grafica_numero_de_ranuras_para_pcie  propiedades_de_la_carcasa_bahia_interna_de_2_5  propiedades_de_la_carcasa_bahia_interna_de_3_5 disco_duro_capacidad  propiedades_de_la_carcasa_bahia_externa_de_5_25 caracteristicas_especiales almacenamiento_formato_audiovisual_compatible otras_caracteristicas_modo_de_sonido propiedades_de_la_carcasa_superficie_del_material disco_duro_capacidad  propiedades_de_la_carcasa_bahia_externa_de_3_5 procesador_placa_base otras_caracteristicas_certificado_rohs sistema_operativo_software_incluido procesador_procesadores_compatibles  precio_min  precio_max  precio_mean camara_resolucion_pulgadas  \\\n",
      "0                             NaN                 NaN                                              NaN                                    NaN           NaN                             NaN                      NaN                                      NaN            NaN                                 NaN                         NaN                                 NaN                                             NaN                                             NaN                  NaN                                              NaN                        NaN                                           NaN                                  NaN                                               NaN                  NaN                                             NaN                   NaN                                    NaN                                 NaN                                 NaN     1026.53     2287.17      1656.85                  1920x1080   \n",
      "1                             NaN                 NaN                                              NaN                                    NaN           NaN                             NaN                      NaN                                      NaN            NaN                                 NaN                         NaN                                 NaN                                             NaN                                             NaN                  NaN                                              NaN                        NaN                                           NaN                                  NaN                                               NaN                  NaN                                             NaN                   NaN                                    NaN                                 NaN                                 NaN     1270.42     2672.25      1971.34                  1920x1080   \n",
      "2                             NaN                 NaN                                              NaN                                    NaN           NaN                             NaN                      NaN                                      NaN            NaN                                 NaN                         NaN                                 NaN                                             NaN                                             NaN                  NaN                                              NaN                        NaN                                           NaN                                  NaN                                               NaN                  NaN                                             NaN                   NaN                                    NaN                                 NaN                                 NaN     1731.44     4932.25      3331.85                  1920x1080   \n",
      "3                             NaN                 NaN                                              NaN                                    NaN           NaN                             NaN                      NaN                                      NaN            NaN                                 NaN                         NaN                                 NaN                                             NaN                                             NaN                  NaN                                              NaN                        NaN                                           NaN                                  NaN                                               NaN                  NaN                                             NaN                   NaN                                    NaN                                 NaN                                 NaN      647.00     1031.71       839.36                        NaN   \n",
      "4                             NaN                 NaN                                              NaN                                    NaN           NaN                             NaN                      NaN                                      NaN            NaN                                 NaN                         NaN                                 NaN                                             NaN                                             NaN                  NaN                                              NaN                        NaN                                           NaN                                  NaN                                               NaN                  NaN                                             NaN                   NaN                                    NaN                                 NaN                                 NaN     1031.31     2069.99      1550.65                  1920x1080   \n",
      "\n",
      "   alimentacion_autonomia_de_la_bateria_horas  alimentacion_vatios  medidas_y_peso_profundidad_cm  medidas_y_peso_altura_mm  medidas_y_peso_ancho_cm  medidas_y_peso_peso_kg pantalla_resolucion_pulgadas  pantalla_densidad_de_pixeles_ppp  pantalla_tasa_de_actualizacion_de_imagen_hz  procesador_cache_mb  ram_memoria_gb  ram_frecuencia_de_la_memoria_mhz  disco_duro_capacidad_de_memoria_ssd_gb  sonido_potencia_de_altavoces_watts  procesador_frecuencia_de_reloj_ghz  procesador_frecuencia_turbo_max_ghz  procesador_potencia_maxima_de_diseno_termico_tdp_watts  ram_extension_de_memoria_maxima_gb  alimentacion_voltaje_de_salida_v  alimentacion_intensidad_de_corriente_a  alimentacion_capacidad_de_la_bateria_ah  medidas_y_peso_alto_cm  procesador_frecuencia_del_reloj_ghz  procesador_tdp_watts  \n",
      "0                                        15.0                 30.0                           21.5                      11.0                     30.4                    1.24                          NaN                               NaN                                          NaN                  NaN             NaN                               NaN                                     NaN                                 NaN                                 NaN                                  NaN                                                NaN                                      NaN                               NaN                                     NaN                                      NaN                     NaN                                  NaN                   NaN  \n",
      "1                                        15.0                 35.0                           23.8                      12.0                     34.0                    1.51                          NaN                               NaN                                          NaN                  NaN             NaN                               NaN                                     NaN                                 NaN                                 NaN                                  NaN                                                NaN                                      NaN                               NaN                                     NaN                                      NaN                     NaN                                  NaN                   NaN  \n",
      "2                                        13.0                 67.0                           22.1                      16.0                     31.3                    1.60                    3024x1964                             254.0                                        120.0                  NaN             NaN                               NaN                                     NaN                                 NaN                                 NaN                                  NaN                                                NaN                                      NaN                               NaN                                     NaN                                      NaN                     NaN                                  NaN                   NaN  \n",
      "3                                         NaN                  NaN                           25.6                      23.0                     35.9                    2.30                    1920x1080                               NaN                                        144.0                 16.0            16.0                            5600.0                                   512.0                                 4.0                                 NaN                                  NaN                                                NaN                                      NaN                               NaN                                     NaN                                      NaN                     NaN                                  NaN                   NaN  \n",
      "4                                         NaN                240.0                           25.5                      22.0                     35.4                    1.90                          NaN                               NaN                                         60.0                 24.0            16.0                               NaN                                  1000.0                                 4.0                                 1.8                                  5.0                                               45.0                                      NaN                               NaN                                     NaN                                      NaN                     NaN                                  NaN                   NaN  \n"
     ]
    }
   ],
   "source": [
    "pd.set_option('display.max_columns', None)    # show all columns\n",
    "pd.set_option('display.width', 1000)          # expand the display width\n",
    "print(df.head())                              # now you'll see all columns\n"
   ]
  },
  {
   "cell_type": "markdown",
   "metadata": {},
   "source": [
    "## Dataset Splitting"
   ]
  },
  {
   "cell_type": "code",
   "execution_count": 117,
   "metadata": {},
   "outputs": [
    {
     "data": {
      "text/plain": [
       "array(['Portátil multimedia', 'Portátil gaming', 'Portátil profesional',\n",
       "       nan, 'Ultrabook', 'Portátil convertible', 'Netbook', 'Portátil 3D',\n",
       "       'Chromebook', 'Mini PC', 'PC multimedia', 'PC gaming',\n",
       "       'PC de oficina', 'Workstation', 'Barebone', 'PC completo',\n",
       "       'Thin Client', 'Kit ampliación PC'], dtype=object)"
      ]
     },
     "execution_count": 117,
     "metadata": {},
     "output_type": "execute_result"
    }
   ],
   "source": [
    "df['tipo_de_producto'].unique()"
   ]
  },
  {
   "cell_type": "markdown",
   "metadata": {},
   "source": [
    "Because different \"Tipo de producto\" has extremely different properties, it will be beneficial to split the dataset into different csv files. This will help us will object and schema managemnet when storing and querying for items in the database."
   ]
  },
  {
   "cell_type": "markdown",
   "metadata": {},
   "source": [
    "### Split by 'Tipo De Producto'"
   ]
  },
  {
   "cell_type": "code",
   "execution_count": 118,
   "metadata": {},
   "outputs": [
    {
     "name": "stdout",
     "output_type": "stream",
     "text": [
      "Processed 'Portátil multimedia': original columns 164, cleaned columns 129\n",
      "Processed 'Portátil gaming': original columns 164, cleaned columns 120\n",
      "Processed 'Portátil profesional': original columns 164, cleaned columns 120\n",
      "Processed 'Desconocido': original columns 164, cleaned columns 150\n",
      "Processed 'Ultrabook': original columns 164, cleaned columns 102\n",
      "Processed 'Portátil convertible': original columns 164, cleaned columns 112\n",
      "Processed 'Netbook': original columns 164, cleaned columns 88\n",
      "Processed 'Portátil 3D': original columns 164, cleaned columns 71\n",
      "Processed 'Chromebook': original columns 164, cleaned columns 98\n",
      "Processed 'Mini PC': original columns 164, cleaned columns 83\n",
      "Processed 'PC multimedia': original columns 164, cleaned columns 74\n",
      "Processed 'PC gaming': original columns 164, cleaned columns 79\n",
      "Processed 'PC de oficina': original columns 164, cleaned columns 83\n",
      "Processed 'Workstation': original columns 164, cleaned columns 80\n",
      "Processed 'Barebone': original columns 164, cleaned columns 71\n",
      "Processed 'PC completo': original columns 164, cleaned columns 69\n",
      "Processed 'Thin Client': original columns 164, cleaned columns 61\n",
      "Processed 'Kit ampliación PC': original columns 164, cleaned columns 34\n"
     ]
    }
   ],
   "source": [
    "unique_product_types = df['tipo_de_producto'].unique()\n",
    "dfs_by_product_type = {}\n",
    "\n",
    "for product_type in unique_product_types:\n",
    "    if pd.isna(product_type): \n",
    "        subset_df = df[df['tipo_de_producto'].isna()].copy() \n",
    "        subset_df.dropna(axis=1, how='all', inplace=True) # Clean it too\n",
    "        dfs_by_product_type['Desconocido'] = subset_df \n",
    "        print(f\"Processed 'Desconocido': original columns {df[df['tipo_de_producto'].isna()].shape[1]}, cleaned columns {subset_df.shape[1]}\")\n",
    "    else:\n",
    "        subset_df = df[df['tipo_de_producto'] == product_type].copy()\n",
    "        original_cols = subset_df.shape[1]\n",
    "        # Drop columns where ALL values are NaN\n",
    "        subset_df.dropna(axis=1, how='all', inplace=True) \n",
    "        cleaned_cols = subset_df.shape[1]\n",
    "        dfs_by_product_type[product_type] = subset_df\n",
    "        print(f\"Processed '{product_type}': original columns {original_cols}, cleaned columns {cleaned_cols}\")\n"
   ]
  },
  {
   "cell_type": "code",
   "execution_count": 119,
   "metadata": {},
   "outputs": [
    {
     "name": "stdout",
     "output_type": "stream",
     "text": [
      "Saved cleaned data to: ../data/split_by_type/Portátil_multimedia.csv\n",
      "Saved cleaned data to: ../data/split_by_type/Portátil_gaming.csv\n",
      "Saved cleaned data to: ../data/split_by_type/Portátil_profesional.csv\n",
      "Saved cleaned data to: ../data/split_by_type/Desconocido.csv\n",
      "Saved cleaned data to: ../data/split_by_type/Ultrabook.csv\n",
      "Saved cleaned data to: ../data/split_by_type/Portátil_convertible.csv\n",
      "Saved cleaned data to: ../data/split_by_type/Netbook.csv\n",
      "Saved cleaned data to: ../data/split_by_type/Portátil_3D.csv\n",
      "Saved cleaned data to: ../data/split_by_type/Chromebook.csv\n",
      "Saved cleaned data to: ../data/split_by_type/Mini_PC.csv\n",
      "Saved cleaned data to: ../data/split_by_type/PC_multimedia.csv\n",
      "Saved cleaned data to: ../data/split_by_type/PC_gaming.csv\n",
      "Saved cleaned data to: ../data/split_by_type/PC_de_oficina.csv\n",
      "Saved cleaned data to: ../data/split_by_type/Workstation.csv\n",
      "Saved cleaned data to: ../data/split_by_type/Barebone.csv\n",
      "Saved cleaned data to: ../data/split_by_type/PC_completo.csv\n",
      "Saved cleaned data to: ../data/split_by_type/Thin_Client.csv\n",
      "Saved cleaned data to: ../data/split_by_type/Kit_ampliación_PC.csv\n"
     ]
    }
   ],
   "source": [
    "import os\n",
    "\n",
    "output_data_path = '../data/split_by_type/' \n",
    "if not os.path.exists(output_data_path):\n",
    "    os.makedirs(output_data_path)\n",
    "\n",
    "# The dfs_by_product_type dictionary now holds the cleaned DataFrames\n",
    "for product_type, df_cleaned_subset in dfs_by_product_type.items():\n",
    "    filename_safe_product_type = \"\".join(c if c.isalnum() else \"_\" for c in str(product_type))\n",
    "    file_path = os.path.join(output_data_path, f\"{filename_safe_product_type}.csv\")\n",
    "    df_cleaned_subset.to_csv(file_path, index=False)\n",
    "    print(f\"Saved cleaned data to: {file_path}\")\n"
   ]
  },
  {
   "cell_type": "markdown",
   "metadata": {},
   "source": [
    "### Split by Category"
   ]
  },
  {
   "cell_type": "code",
   "execution_count": 120,
   "metadata": {},
   "outputs": [],
   "source": [
    "# Example mapping:\n",
    "category_map = {\n",
    "    'Portátil multimedia': 'Laptop', 'Portátil gaming': 'Laptop', \n",
    "    'Portátil profesional': 'Laptop', 'Ultrabook': 'Laptop',\n",
    "    'Portátil convertible': 'Laptop', 'Netbook': 'Laptop',\n",
    "    'Portátil 3D': 'Laptop', 'Chromebook': 'Laptop',\n",
    "\n",
    "    'Mini PC': 'Desktop_PC', 'PC multimedia': 'Desktop_PC', \n",
    "    'PC gaming': 'Desktop_PC', 'PC de oficina': 'Desktop_PC',\n",
    "    'Workstation': 'Desktop_PC', 'Barebone': 'Desktop_PC', \n",
    "    'PC completo': 'Desktop_PC',\n",
    "\n",
    "    'Kit ampliación PC': 'Component_Kit',\n",
    "    'Thin Client': 'Specialized_PC', \n",
    "}"
   ]
  },
  {
   "cell_type": "code",
   "execution_count": 74,
   "metadata": {},
   "outputs": [
    {
     "ename": "NameError",
     "evalue": "name 'category_map' is not defined",
     "output_type": "error",
     "traceback": [
      "\u001b[31m---------------------------------------------------------------------------\u001b[39m",
      "\u001b[31mNameError\u001b[39m                                 Traceback (most recent call last)",
      "\u001b[36mCell\u001b[39m\u001b[36m \u001b[39m\u001b[32mIn[74]\u001b[39m\u001b[32m, line 1\u001b[39m\n\u001b[32m----> \u001b[39m\u001b[32m1\u001b[39m df[\u001b[33m'\u001b[39m\u001b[33mCategoria_General\u001b[39m\u001b[33m'\u001b[39m] = df[\u001b[33m'\u001b[39m\u001b[33mtipo_de_producto\u001b[39m\u001b[33m'\u001b[39m].map(\u001b[43mcategory_map\u001b[49m)\n\u001b[32m      2\u001b[39m \u001b[38;5;66;03m# Handle any types not in your map, perhaps by assigning them to 'Other'\u001b[39;00m\n\u001b[32m      3\u001b[39m df[\u001b[33m'\u001b[39m\u001b[33mCategoria_General\u001b[39m\u001b[33m'\u001b[39m].fillna(\u001b[33m'\u001b[39m\u001b[33mOtro\u001b[39m\u001b[33m'\u001b[39m, inplace=\u001b[38;5;28;01mTrue\u001b[39;00m) \n",
      "\u001b[31mNameError\u001b[39m: name 'category_map' is not defined"
     ]
    }
   ],
   "source": [
    "df['Categoria_General'] = df['tipo_de_producto'].map(category_map)\n",
    "# Handle any types not in your map, perhaps by assigning them to 'Other'\n",
    "df['Categoria_General'].fillna('Otro', inplace=True) "
   ]
  },
  {
   "cell_type": "code",
   "execution_count": 123,
   "metadata": {},
   "outputs": [
    {
     "name": "stdout",
     "output_type": "stream",
     "text": [
      "Saved cleaned data to: ../data/split_by_general_category/Laptop.csv (Rows: 3889, Columns: 132)\n",
      "Saved cleaned data to: ../data/split_by_general_category/Otro.csv (Rows: 545, Columns: 151)\n",
      "Saved cleaned data to: ../data/split_by_general_category/Desktop_PC.csv (Rows: 3602, Columns: 86)\n",
      "Saved cleaned data to: ../data/split_by_general_category/Specialized_PC.csv (Rows: 25, Columns: 62)\n",
      "Saved cleaned data to: ../data/split_by_general_category/Component_Kit.csv (Rows: 3, Columns: 35)\n"
     ]
    }
   ],
   "source": [
    "dfs_by_general_category = {}\n",
    "for general_category_name in df['Categoria_General'].unique():\n",
    "    subset_df = df[df['Categoria_General'] == general_category_name].copy()\n",
    "    # IMPORTANT: Drop all-NaN columns again for these new broader DFs\n",
    "    subset_df.dropna(axis=1, how='all', inplace=True)\n",
    "    dfs_by_general_category[general_category_name] = subset_df\n",
    "    \n",
    "    # Save these new broader category DataFrames to new CSVs\n",
    "    # (You'll want a new output folder or different filenames)\n",
    "    output_path_general = '../data/split_by_general_category/'\n",
    "    if not os.path.exists(output_path_general):\n",
    "        os.makedirs(output_path_general)\n",
    "    \n",
    "    filename_safe_general_category = \"\".join(c if c.isalnum() else \"_\" for c in str(general_category_name))\n",
    "    file_path = os.path.join(output_path_general, f\"{filename_safe_general_category}.csv\")\n",
    "    subset_df.to_csv(file_path, index=False)\n",
    "    print(f\"Saved cleaned data to: {file_path} (Rows: {len(subset_df)}, Columns: {subset_df.shape[1]})\")"
   ]
  },
  {
   "cell_type": "markdown",
   "metadata": {},
   "source": [
    "## Visualization"
   ]
  },
  {
   "cell_type": "markdown",
   "metadata": {},
   "source": [
    "## Transformation"
   ]
  },
  {
   "cell_type": "markdown",
   "metadata": {},
   "source": [
    "## Validation & Consistency Checks"
   ]
  },
  {
   "cell_type": "markdown",
   "metadata": {},
   "source": []
  }
 ],
 "metadata": {
  "kernelspec": {
   "display_name": "Python (eda_env)",
   "language": "python",
   "name": "eda_env"
  },
  "language_info": {
   "codemirror_mode": {
    "name": "ipython",
    "version": 3
   },
   "file_extension": ".py",
   "mimetype": "text/x-python",
   "name": "python",
   "nbconvert_exporter": "python",
   "pygments_lexer": "ipython3",
   "version": "3.13.3"
  }
 },
 "nbformat": 4,
 "nbformat_minor": 2
}
